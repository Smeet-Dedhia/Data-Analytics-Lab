{
 "cells": [
  {
   "cell_type": "markdown",
   "id": "3ce7fc26",
   "metadata": {},
   "source": [
    "# ML Lab Week1 by Smeet Dedhia 200968236\n",
    "## Exercise 1"
   ]
  },
  {
   "cell_type": "code",
   "execution_count": 1,
   "id": "0489cdd5",
   "metadata": {},
   "outputs": [],
   "source": [
    "#Importing libraries\n",
    "\n",
    "import pandas as pd\n",
    "import numpy as np\n",
    "import matplotlib.pyplot as plt\n",
    "%matplotlib inline\n",
    "import seaborn as sns\n",
    "\n",
    "from sklearn.model_selection import train_test_split\n",
    "from sklearn.linear_model import LinearRegression\n",
    "from sklearn import preprocessing"
   ]
  },
  {
   "cell_type": "markdown",
   "id": "fd6f6332",
   "metadata": {},
   "source": [
    "### 1. Write a user defined function ‘myFnLinReg(x,y)’ to perform Simple Linear Regression given one predictor attribute and one response attribute. The function should return the coefficients of the straight line."
   ]
  },
  {
   "cell_type": "code",
   "execution_count": 2,
   "id": "b3e281ad",
   "metadata": {},
   "outputs": [],
   "source": [
    "def myFnLinReg(x,y):\n",
    "    \n",
    "    n = len(x)\n",
    "    x_mean = np.mean(x)\n",
    "    y_mean = np.mean(y)\n",
    "    \n",
    "    b1_num = np.sum(np.multiply((x - x_mean),(y-y_mean)))\n",
    "    b1_den = np.sum(np.multiply((x-x_mean),(x-x_mean)))\n",
    "    b1 = b1_num/b1_den\n",
    "    \n",
    "    b0 = y_mean - (b1 * x_mean)\n",
    "    \n",
    "    return b0,b1"
   ]
  },
  {
   "cell_type": "markdown",
   "id": "d7dedf74",
   "metadata": {},
   "source": [
    "The regression line: y = b0 + b1*x"
   ]
  },
  {
   "cell_type": "markdown",
   "id": "3e6603b3",
   "metadata": {},
   "source": [
    "### 2. Use mtcars data set and consider the attributes mpg and weight. Split data into train and test sets (70 %,30%). Put training data set to ‘myFnLinReg(x,y)’ to build a linear regression model to predict mpg given the weight of the car."
   ]
  },
  {
   "cell_type": "code",
   "execution_count": 3,
   "id": "0d24d52b",
   "metadata": {},
   "outputs": [
    {
     "data": {
      "text/html": [
       "<div>\n",
       "<style scoped>\n",
       "    .dataframe tbody tr th:only-of-type {\n",
       "        vertical-align: middle;\n",
       "    }\n",
       "\n",
       "    .dataframe tbody tr th {\n",
       "        vertical-align: top;\n",
       "    }\n",
       "\n",
       "    .dataframe thead th {\n",
       "        text-align: right;\n",
       "    }\n",
       "</style>\n",
       "<table border=\"1\" class=\"dataframe\">\n",
       "  <thead>\n",
       "    <tr style=\"text-align: right;\">\n",
       "      <th></th>\n",
       "      <th>model</th>\n",
       "      <th>mpg</th>\n",
       "      <th>cyl</th>\n",
       "      <th>disp</th>\n",
       "      <th>hp</th>\n",
       "      <th>drat</th>\n",
       "      <th>wt</th>\n",
       "      <th>qsec</th>\n",
       "      <th>vs</th>\n",
       "      <th>am</th>\n",
       "      <th>gear</th>\n",
       "      <th>carb</th>\n",
       "    </tr>\n",
       "  </thead>\n",
       "  <tbody>\n",
       "    <tr>\n",
       "      <th>0</th>\n",
       "      <td>Mazda RX4</td>\n",
       "      <td>21.0</td>\n",
       "      <td>6</td>\n",
       "      <td>160.0</td>\n",
       "      <td>110</td>\n",
       "      <td>3.90</td>\n",
       "      <td>2.620</td>\n",
       "      <td>16.46</td>\n",
       "      <td>0</td>\n",
       "      <td>1</td>\n",
       "      <td>4</td>\n",
       "      <td>4</td>\n",
       "    </tr>\n",
       "    <tr>\n",
       "      <th>1</th>\n",
       "      <td>Mazda RX4 Wag</td>\n",
       "      <td>21.0</td>\n",
       "      <td>6</td>\n",
       "      <td>160.0</td>\n",
       "      <td>110</td>\n",
       "      <td>3.90</td>\n",
       "      <td>2.875</td>\n",
       "      <td>17.02</td>\n",
       "      <td>0</td>\n",
       "      <td>1</td>\n",
       "      <td>4</td>\n",
       "      <td>4</td>\n",
       "    </tr>\n",
       "    <tr>\n",
       "      <th>2</th>\n",
       "      <td>Datsun 710</td>\n",
       "      <td>22.8</td>\n",
       "      <td>4</td>\n",
       "      <td>108.0</td>\n",
       "      <td>93</td>\n",
       "      <td>3.85</td>\n",
       "      <td>2.320</td>\n",
       "      <td>18.61</td>\n",
       "      <td>1</td>\n",
       "      <td>1</td>\n",
       "      <td>4</td>\n",
       "      <td>1</td>\n",
       "    </tr>\n",
       "    <tr>\n",
       "      <th>3</th>\n",
       "      <td>Hornet 4 Drive</td>\n",
       "      <td>21.4</td>\n",
       "      <td>6</td>\n",
       "      <td>258.0</td>\n",
       "      <td>110</td>\n",
       "      <td>3.08</td>\n",
       "      <td>3.215</td>\n",
       "      <td>19.44</td>\n",
       "      <td>1</td>\n",
       "      <td>0</td>\n",
       "      <td>3</td>\n",
       "      <td>1</td>\n",
       "    </tr>\n",
       "    <tr>\n",
       "      <th>4</th>\n",
       "      <td>Hornet Sportabout</td>\n",
       "      <td>18.7</td>\n",
       "      <td>8</td>\n",
       "      <td>360.0</td>\n",
       "      <td>175</td>\n",
       "      <td>3.15</td>\n",
       "      <td>3.440</td>\n",
       "      <td>17.02</td>\n",
       "      <td>0</td>\n",
       "      <td>0</td>\n",
       "      <td>3</td>\n",
       "      <td>2</td>\n",
       "    </tr>\n",
       "  </tbody>\n",
       "</table>\n",
       "</div>"
      ],
      "text/plain": [
       "               model   mpg  cyl   disp   hp  drat     wt   qsec  vs  am  gear  \\\n",
       "0          Mazda RX4  21.0    6  160.0  110  3.90  2.620  16.46   0   1     4   \n",
       "1      Mazda RX4 Wag  21.0    6  160.0  110  3.90  2.875  17.02   0   1     4   \n",
       "2         Datsun 710  22.8    4  108.0   93  3.85  2.320  18.61   1   1     4   \n",
       "3     Hornet 4 Drive  21.4    6  258.0  110  3.08  3.215  19.44   1   0     3   \n",
       "4  Hornet Sportabout  18.7    8  360.0  175  3.15  3.440  17.02   0   0     3   \n",
       "\n",
       "   carb  \n",
       "0     4  \n",
       "1     4  \n",
       "2     1  \n",
       "3     1  \n",
       "4     2  "
      ]
     },
     "execution_count": 3,
     "metadata": {},
     "output_type": "execute_result"
    }
   ],
   "source": [
    "#Importing the mtcars dataset\n",
    "df = pd.read_csv(\"mtcars.csv\")\n",
    "df.head()"
   ]
  },
  {
   "cell_type": "code",
   "execution_count": 4,
   "id": "1093b522",
   "metadata": {},
   "outputs": [
    {
     "name": "stdout",
     "output_type": "stream",
     "text": [
      "<class 'pandas.core.frame.DataFrame'>\n",
      "RangeIndex: 32 entries, 0 to 31\n",
      "Data columns (total 12 columns):\n",
      " #   Column  Non-Null Count  Dtype  \n",
      "---  ------  --------------  -----  \n",
      " 0   model   32 non-null     object \n",
      " 1   mpg     32 non-null     float64\n",
      " 2   cyl     32 non-null     int64  \n",
      " 3   disp    32 non-null     float64\n",
      " 4   hp      32 non-null     int64  \n",
      " 5   drat    32 non-null     float64\n",
      " 6   wt      32 non-null     float64\n",
      " 7   qsec    32 non-null     float64\n",
      " 8   vs      32 non-null     int64  \n",
      " 9   am      32 non-null     int64  \n",
      " 10  gear    32 non-null     int64  \n",
      " 11  carb    32 non-null     int64  \n",
      "dtypes: float64(5), int64(6), object(1)\n",
      "memory usage: 3.1+ KB\n"
     ]
    }
   ],
   "source": [
    "df.info()"
   ]
  },
  {
   "cell_type": "code",
   "execution_count": 5,
   "id": "1a8e751a",
   "metadata": {},
   "outputs": [],
   "source": [
    "# wt is X, mpg is y\n",
    "x = df[\"wt\"]\n",
    "y = df[\"mpg\"]\n",
    "\n",
    "#train test split\n",
    "x_train, x_test, y_train, y_test = train_test_split(x, y, test_size=0.3, random_state=45)"
   ]
  },
  {
   "cell_type": "code",
   "execution_count": 6,
   "id": "07dbb1be",
   "metadata": {},
   "outputs": [
    {
     "name": "stdout",
     "output_type": "stream",
     "text": [
      "Coeeficients & Regression line: y = 36.54574447947914 + -5.309222506694093*x\n"
     ]
    }
   ],
   "source": [
    "#Fitting the model\n",
    "b0,b1 = myFnLinReg(x_train, y_train)\n",
    "print(\"Coeeficients & Regression line: y = {} + {}*x\".format(b0,b1))"
   ]
  },
  {
   "cell_type": "markdown",
   "id": "0b5af9b1",
   "metadata": {},
   "source": [
    "### 3. What is the mpg of a car, whose weight is 6.7?"
   ]
  },
  {
   "cell_type": "code",
   "execution_count": 7,
   "id": "dec9548f",
   "metadata": {},
   "outputs": [],
   "source": [
    "#Function for Linear Model\n",
    "def LinearModel(b0,b1):\n",
    "    def reg(x):\n",
    "        y = b0 + b1*x\n",
    "        return y\n",
    "    return reg"
   ]
  },
  {
   "cell_type": "code",
   "execution_count": 8,
   "id": "44909393",
   "metadata": {},
   "outputs": [
    {
     "name": "stdout",
     "output_type": "stream",
     "text": [
      "MPG for weight 6.7: \n"
     ]
    },
    {
     "data": {
      "text/plain": [
       "0.973953684628718"
      ]
     },
     "execution_count": 8,
     "metadata": {},
     "output_type": "execute_result"
    }
   ],
   "source": [
    "mpg_model = LinearModel(b0,b1)\n",
    "print(\"MPG for weight 6.7: \")\n",
    "mpg_model(6.7)"
   ]
  },
  {
   "cell_type": "markdown",
   "id": "bca1b24c",
   "metadata": {},
   "source": [
    "### 4. Compute and print accuracy measures such as RMSE and R2 for the test set."
   ]
  },
  {
   "cell_type": "code",
   "execution_count": 9,
   "id": "23246865",
   "metadata": {},
   "outputs": [
    {
     "name": "stdout",
     "output_type": "stream",
     "text": [
      "RMSE:\n"
     ]
    },
    {
     "data": {
      "text/plain": [
       "3.5136666229354017"
      ]
     },
     "execution_count": 9,
     "metadata": {},
     "output_type": "execute_result"
    }
   ],
   "source": [
    "def RMSE(y_pred, y_test):\n",
    "    return np.sqrt(((y_pred - y_test) ** 2).mean())\n",
    "y_pred = mpg_model(x_test)\n",
    "\n",
    "print(\"RMSE:\")\n",
    "RMSE(y_pred,y_test)"
   ]
  },
  {
   "cell_type": "markdown",
   "id": "c70987f6",
   "metadata": {},
   "source": [
    "The RMSE value obtained is 3.51"
   ]
  },
  {
   "cell_type": "code",
   "execution_count": 10,
   "id": "5c4500e3",
   "metadata": {},
   "outputs": [
    {
     "name": "stdout",
     "output_type": "stream",
     "text": [
      "R2: \n"
     ]
    },
    {
     "data": {
      "text/plain": [
       "0.6595604836717412"
      ]
     },
     "execution_count": 10,
     "metadata": {},
     "output_type": "execute_result"
    }
   ],
   "source": [
    "numerator =0\n",
    "denominator=0\n",
    "\n",
    "numerator = np.sum((y_pred-y_test)**2)\n",
    "denominator = np.sum(((y_pred-np.mean(y_test))**2))\n",
    "\n",
    "r2=1-(numerator/denominator)\n",
    "print(\"R2: \")\n",
    "r2"
   ]
  },
  {
   "cell_type": "markdown",
   "id": "52601c38",
   "metadata": {},
   "source": [
    "The R-square value obtained is 0.66 indicating that our model is almost 66% accurate"
   ]
  },
  {
   "cell_type": "markdown",
   "id": "262fb268",
   "metadata": {},
   "source": [
    "#### RMSE & R2 Using sklearn library:"
   ]
  },
  {
   "cell_type": "code",
   "execution_count": 11,
   "id": "77b36bba",
   "metadata": {},
   "outputs": [
    {
     "data": {
      "text/plain": [
       "3.5136666229354017"
      ]
     },
     "execution_count": 11,
     "metadata": {},
     "output_type": "execute_result"
    }
   ],
   "source": [
    "from sklearn.metrics import mean_squared_error\n",
    "np.sqrt(mean_squared_error(y_pred,y_test))"
   ]
  },
  {
   "cell_type": "code",
   "execution_count": 12,
   "id": "3972c898",
   "metadata": {},
   "outputs": [
    {
     "data": {
      "text/plain": [
       "0.6801791303874818"
      ]
     },
     "execution_count": 12,
     "metadata": {},
     "output_type": "execute_result"
    }
   ],
   "source": [
    "from sklearn.metrics import r2_score\n",
    "r2_score(y_test,y_pred)"
   ]
  },
  {
   "cell_type": "markdown",
   "id": "645b5863",
   "metadata": {},
   "source": [
    "### 5. Apply the stochastic gradient descent and mini batch gradient descent algorithms to enhance the accuracy and visualize the cost function."
   ]
  },
  {
   "cell_type": "markdown",
   "id": "662ff82d",
   "metadata": {},
   "source": [
    "#### Stochastic Gradient Descent"
   ]
  },
  {
   "cell_type": "code",
   "execution_count": 13,
   "id": "aae87b34",
   "metadata": {},
   "outputs": [
    {
     "data": {
      "text/plain": [
       "(array([-5.02826216]), array([35.90670855]), array([3.22883461]))"
      ]
     },
     "execution_count": 13,
     "metadata": {},
     "output_type": "execute_result"
    }
   ],
   "source": [
    "import random\n",
    "def stochastic_gradient_descent(X, y_true, epochs, learning_rate = 0.05):\n",
    "    number_of_features = 1\n",
    "    w = np.ones(shape=(number_of_features)) \n",
    "    b = 0\n",
    "    total_samples = X.shape[0]\n",
    "    \n",
    "    cost_list = []\n",
    "    epoch_list = []\n",
    "    \n",
    "    for i in range(epochs):    \n",
    "        random_index = random.randint(0,total_samples-1)\n",
    "        sample_x = X[random_index]\n",
    "        sample_y = y_true[random_index]\n",
    "        \n",
    "      \n",
    "        y_predicted = np.dot(w, sample_x.T) + b\n",
    "    \n",
    "        w_grad = -(2/total_samples)*(sample_x.T*(sample_y-y_predicted))\n",
    "        b_grad = -(2/total_samples)*(sample_y-y_predicted)\n",
    "        \n",
    "        w = w - learning_rate * w_grad\n",
    "        b = b - learning_rate * b_grad\n",
    "        \n",
    "        cost = np.square(sample_y-y_predicted)\n",
    "        \n",
    "        \n",
    "        if i%100==0:\n",
    "            cost_list.append(cost)\n",
    "            epoch_list.append(i)\n",
    "        \n",
    "    return w, b, cost, cost_list, epoch_list\n",
    "\n",
    "\n",
    "w1, b1, cost1, cost_list1, epoch_list1 = stochastic_gradient_descent(x_train.values,y_train.values.reshape(y_train.shape[0],),15000)\n",
    "w1, b1, cost1"
   ]
  },
  {
   "cell_type": "code",
   "execution_count": 14,
   "id": "0c9ec826",
   "metadata": {},
   "outputs": [
    {
     "data": {
      "image/png": "[encoded data removed]",
      "text/plain": [
       "<Figure size 504x504 with 1 Axes>"
      ]
     },
     "metadata": {
      "needs_background": "light"
     },
     "output_type": "display_data"
    }
   ],
   "source": [
    "plt.figure(figsize=(7,7))\n",
    "plt.xlabel(\"epoch\")\n",
    "plt.ylabel(\"cost\")\n",
    "plt.plot(epoch_list1,cost_list1)\n",
    "plt.title(\"Visualization of Cost Function for Stochastic Gradient Descent\")\n",
    "plt.show()\n"
   ]
  },
  {
   "cell_type": "markdown",
   "id": "64d4e5b9",
   "metadata": {},
   "source": [
    "#### Mini Batch Gradient Descent"
   ]
  },
  {
   "cell_type": "code",
   "execution_count": 15,
   "id": "83f62d82",
   "metadata": {},
   "outputs": [
    {
     "data": {
      "text/plain": [
       "(array([-5.23262274]), 36.490485034919544, 6.498793120226589)"
      ]
     },
     "execution_count": 15,
     "metadata": {},
     "output_type": "execute_result"
    }
   ],
   "source": [
    "import random\n",
    "def mb_gradient_descent(X, y_true, epochs, learning_rate = 0.05):\n",
    " \n",
    "    number_of_features = 1\n",
    "   \n",
    "    w = np.ones(shape=(number_of_features)) \n",
    "    b = 0\n",
    "    total_samples = X.shape[0]\n",
    "    \n",
    "    cost_list = []\n",
    "    epoch_list = []\n",
    "    \n",
    "    for i in range(epochs):    \n",
    "        indices = np.random.randint(0,total_samples-1,10)\n",
    "        sample_x = X[indices]\n",
    "        sample_y = y_true[indices]\n",
    "        \n",
    "    \n",
    "        y_predicted = w*sample_x.T + b\n",
    "    \n",
    "        w_grad = -(2/total_samples)*(sample_x.T.dot(sample_y-y_predicted))\n",
    "        b_grad = -(2/total_samples)*(sample_y-y_predicted)\n",
    "        \n",
    "        w = w - learning_rate * w_grad\n",
    "        \n",
    "        b = b - learning_rate * b_grad\n",
    "        b=b.mean()\n",
    "        \n",
    "        cost = np.square(sample_y-y_predicted)\n",
    "        cost=cost.mean()\n",
    "       \n",
    "        if i%100==0:\n",
    "            cost_list.append(cost)\n",
    "            epoch_list.append(i)\n",
    "        \n",
    "    return w, b, cost, cost_list, epoch_list\n",
    "\n",
    "w2, b2, cost2, cost_list2, epoch_list2 = mb_gradient_descent(x_train.values,y_train.values.reshape(y_train.shape[0],),15000)\n",
    "w2, b2, cost2"
   ]
  },
  {
   "cell_type": "code",
   "execution_count": 17,
   "id": "7a9fddde",
   "metadata": {},
   "outputs": [
    {
     "data": {
      "image/png": "[encoded data removed]",
      "text/plain": [
       "<Figure size 504x504 with 1 Axes>"
      ]
     },
     "metadata": {
      "needs_background": "light"
     },
     "output_type": "display_data"
    }
   ],
   "source": [
    "plt.figure(figsize=(7,7))\n",
    "plt.xlabel(\"epoch\")\n",
    "plt.ylabel(\"cost\")\n",
    "plt.plot(epoch_list2,cost_list2)\n",
    "plt.title(\"Visualization of Cost Function for Mini-Batch Gradient Descent\")\n",
    "plt.show()"
   ]
  },
  {
   "cell_type": "code",
   "execution_count": null,
   "id": "2f23d715",
   "metadata": {},
   "outputs": [],
   "source": []
  }
 ],
 "metadata": {
  "kernelspec": {
   "display_name": "Python 3",
   "language": "python",
   "name": "python3"
  },
  "language_info": {
   "codemirror_mode": {
    "name": "ipython",
    "version": 3
   },
   "file_extension": ".py",
   "mimetype": "text/x-python",
   "name": "python",
   "nbconvert_exporter": "python",
   "pygments_lexer": "ipython3",
   "version": "3.8.8"
  }
 },
 "nbformat": 4,
 "nbformat_minor": 5
}
