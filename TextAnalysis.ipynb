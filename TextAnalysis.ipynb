{
 "cells": [
  {
   "cell_type": "markdown",
   "id": "931daed7",
   "metadata": {},
   "source": [
    "<h1>IDA Lab Week7 Ex2: Text Analysis</h1>\n",
    "<h2>By Smeet Dedhia Reg: 200968236</h2>\n",
    "<h3>amazon_baby.csv dataset</h3>"
   ]
  },
  {
   "cell_type": "code",
   "execution_count": 1,
   "id": "7b1c7a49",
   "metadata": {},
   "outputs": [
    {
     "data": {
      "text/html": [
       "<div>\n",
       "<style scoped>\n",
       "    .dataframe tbody tr th:only-of-type {\n",
       "        vertical-align: middle;\n",
       "    }\n",
       "\n",
       "    .dataframe tbody tr th {\n",
       "        vertical-align: top;\n",
       "    }\n",
       "\n",
       "    .dataframe thead th {\n",
       "        text-align: right;\n",
       "    }\n",
       "</style>\n",
       "<table border=\"1\" class=\"dataframe\">\n",
       "  <thead>\n",
       "    <tr style=\"text-align: right;\">\n",
       "      <th></th>\n",
       "      <th>name</th>\n",
       "      <th>review</th>\n",
       "      <th>rating</th>\n",
       "    </tr>\n",
       "  </thead>\n",
       "  <tbody>\n",
       "    <tr>\n",
       "      <th>0</th>\n",
       "      <td>Planetwise Flannel Wipes</td>\n",
       "      <td>These flannel wipes are OK, but in my opinion ...</td>\n",
       "      <td>3</td>\n",
       "    </tr>\n",
       "    <tr>\n",
       "      <th>1</th>\n",
       "      <td>Planetwise Wipe Pouch</td>\n",
       "      <td>it came early and was not disappointed. i love...</td>\n",
       "      <td>5</td>\n",
       "    </tr>\n",
       "    <tr>\n",
       "      <th>2</th>\n",
       "      <td>Annas Dream Full Quilt with 2 Shams</td>\n",
       "      <td>Very soft and comfortable and warmer than it l...</td>\n",
       "      <td>5</td>\n",
       "    </tr>\n",
       "    <tr>\n",
       "      <th>3</th>\n",
       "      <td>Stop Pacifier Sucking without tears with Thumb...</td>\n",
       "      <td>This is a product well worth the purchase.  I ...</td>\n",
       "      <td>5</td>\n",
       "    </tr>\n",
       "    <tr>\n",
       "      <th>4</th>\n",
       "      <td>Stop Pacifier Sucking without tears with Thumb...</td>\n",
       "      <td>All of my kids have cried non-stop when I trie...</td>\n",
       "      <td>5</td>\n",
       "    </tr>\n",
       "    <tr>\n",
       "      <th>...</th>\n",
       "      <td>...</td>\n",
       "      <td>...</td>\n",
       "      <td>...</td>\n",
       "    </tr>\n",
       "    <tr>\n",
       "      <th>183526</th>\n",
       "      <td>Baby Teething Necklace for Mom Pretty Donut Sh...</td>\n",
       "      <td>Such a great idea! very handy to have and look...</td>\n",
       "      <td>5</td>\n",
       "    </tr>\n",
       "    <tr>\n",
       "      <th>183527</th>\n",
       "      <td>Baby Teething Necklace for Mom Pretty Donut Sh...</td>\n",
       "      <td>This product rocks!  It is a great blend of fu...</td>\n",
       "      <td>5</td>\n",
       "    </tr>\n",
       "    <tr>\n",
       "      <th>183528</th>\n",
       "      <td>Abstract 2 PK Baby / Toddler Training Cup (Pink)</td>\n",
       "      <td>This item looks great and cool for my kids.......</td>\n",
       "      <td>5</td>\n",
       "    </tr>\n",
       "    <tr>\n",
       "      <th>183529</th>\n",
       "      <td>Baby Food Freezer Tray - Bacteria Resistant, B...</td>\n",
       "      <td>I am extremely happy with this product. I have...</td>\n",
       "      <td>5</td>\n",
       "    </tr>\n",
       "    <tr>\n",
       "      <th>183530</th>\n",
       "      <td>Best 2 Pack Baby Car Shade for Kids - Window S...</td>\n",
       "      <td>I love this product very mush . I have bought ...</td>\n",
       "      <td>5</td>\n",
       "    </tr>\n",
       "  </tbody>\n",
       "</table>\n",
       "<p>183531 rows × 3 columns</p>\n",
       "</div>"
      ],
      "text/plain": [
       "                                                     name  \\\n",
       "0                                Planetwise Flannel Wipes   \n",
       "1                                   Planetwise Wipe Pouch   \n",
       "2                     Annas Dream Full Quilt with 2 Shams   \n",
       "3       Stop Pacifier Sucking without tears with Thumb...   \n",
       "4       Stop Pacifier Sucking without tears with Thumb...   \n",
       "...                                                   ...   \n",
       "183526  Baby Teething Necklace for Mom Pretty Donut Sh...   \n",
       "183527  Baby Teething Necklace for Mom Pretty Donut Sh...   \n",
       "183528   Abstract 2 PK Baby / Toddler Training Cup (Pink)   \n",
       "183529  Baby Food Freezer Tray - Bacteria Resistant, B...   \n",
       "183530  Best 2 Pack Baby Car Shade for Kids - Window S...   \n",
       "\n",
       "                                                   review  rating  \n",
       "0       These flannel wipes are OK, but in my opinion ...       3  \n",
       "1       it came early and was not disappointed. i love...       5  \n",
       "2       Very soft and comfortable and warmer than it l...       5  \n",
       "3       This is a product well worth the purchase.  I ...       5  \n",
       "4       All of my kids have cried non-stop when I trie...       5  \n",
       "...                                                   ...     ...  \n",
       "183526  Such a great idea! very handy to have and look...       5  \n",
       "183527  This product rocks!  It is a great blend of fu...       5  \n",
       "183528  This item looks great and cool for my kids.......       5  \n",
       "183529  I am extremely happy with this product. I have...       5  \n",
       "183530  I love this product very mush . I have bought ...       5  \n",
       "\n",
       "[183531 rows x 3 columns]"
      ]
     },
     "execution_count": 1,
     "metadata": {},
     "output_type": "execute_result"
    }
   ],
   "source": [
    "#importing libraries\n",
    "import pandas as pd \n",
    "import numpy as np\n",
    "import seaborn as sns\n",
    "import matplotlib.pyplot as plt\n",
    "%matplotlib inline\n",
    "AB = pd.read_csv(r\"amazon_baby.csv\") \n",
    "AB"
   ]
  },
  {
   "cell_type": "code",
   "execution_count": 2,
   "id": "5c15f3f4",
   "metadata": {},
   "outputs": [
    {
     "data": {
      "text/html": [
       "<div>\n",
       "<style scoped>\n",
       "    .dataframe tbody tr th:only-of-type {\n",
       "        vertical-align: middle;\n",
       "    }\n",
       "\n",
       "    .dataframe tbody tr th {\n",
       "        vertical-align: top;\n",
       "    }\n",
       "\n",
       "    .dataframe thead th {\n",
       "        text-align: right;\n",
       "    }\n",
       "</style>\n",
       "<table border=\"1\" class=\"dataframe\">\n",
       "  <thead>\n",
       "    <tr style=\"text-align: right;\">\n",
       "      <th></th>\n",
       "      <th>review</th>\n",
       "      <th>rating</th>\n",
       "    </tr>\n",
       "    <tr>\n",
       "      <th>name</th>\n",
       "      <th></th>\n",
       "      <th></th>\n",
       "    </tr>\n",
       "  </thead>\n",
       "  <tbody>\n",
       "    <tr>\n",
       "      <th># 1 Digital Baby Thermometer - With FREE LIFETIME GUARANTEE: Using Non-Contact Infra Red (IR) Technology giving you instant and accurate temperature readings - Protect your BABY from FEVER and ILLNESS by using the DUAL Colour Digital Display and AUDIO ALARM function. Instant temperature reading from Baby Forehead within 1cm to 6cm distance - AUDIO Warning will trigger when temperature exceeds (37.5&amp;#8451;) - Built in Memory to store 20 Readings - Fully FDA Approved &amp;amp; (C.E.) Rated for Safety - Sold in one neat compact size 0.23kg weight. Durable Silicone touch buttons for durability - The non-contact design allows an instant temperature reading while your baby is sleeping. Can also be used to take the temperature of Baby Milk Bottles - In STOCK &amp;amp; SHIPS today for FREE with Amazon.com</th>\n",
       "      <td>4</td>\n",
       "      <td>4</td>\n",
       "    </tr>\n",
       "    <tr>\n",
       "      <th>#1 Adjustable Back Seat Baby Safety Mirror - Easy To Fit - Mirror Attaches In Seconds To Rear Seat Head Rest And Rotates And Pivots For A Clear View - Designed To Help You See Your Baby When They Are In A Reward Facing Car Seat, Without You Having To Turn Your Head Whilst Driving - No Obstruction To Rear View Visibility - High Quality Material - Best Life Time Guarantee - Top Selling Baby Safety Product From Happy Snuggle</th>\n",
       "      <td>1</td>\n",
       "      <td>1</td>\n",
       "    </tr>\n",
       "    <tr>\n",
       "      <th>#1 Baby Bottle Brush for All Types of Bottles &amp;#9733; Baby Feeder Nipple Cleaner Brush with Small, Long Plastic Grip Hanging Loop Handle &amp;#9733; Ergonomic Safe Bristle Heads for All Types of Water, Beer, Wine Bottles and Cups &amp;#9733; Best Bottle Cleaner for All Types of Small and Long Bottles with Narrow Neck &amp;#9733; Finest Nipple Brush and Best Feeder Brush for Baby Bottles &amp;#9733; Order High Quality Product with Lifetime Guarantee &amp;#9733;</th>\n",
       "      <td>3</td>\n",
       "      <td>3</td>\n",
       "    </tr>\n",
       "    <tr>\n",
       "      <th>#1 Premium Baby Nasal Aspirator by Cutietots - The Snot Sucker That Clears Away Baby\\'s Stuffy Nose Gently and Instantly - Easy to Clean, Hygienic, BPA and Latex FREE - Great for Baby Showers with Its Lovely Packaging - Works Well with Nasal Saline Solutions - 100% Satisfaction Money Back Guarantee!!!</th>\n",
       "      <td>4</td>\n",
       "      <td>4</td>\n",
       "    </tr>\n",
       "    <tr>\n",
       "      <th>#120 - 2.5mm Dr Mom Specula Tips - Premium Quality</th>\n",
       "      <td>2</td>\n",
       "      <td>2</td>\n",
       "    </tr>\n",
       "    <tr>\n",
       "      <th>...</th>\n",
       "      <td>...</td>\n",
       "      <td>...</td>\n",
       "    </tr>\n",
       "    <tr>\n",
       "      <th>zCush Cotton Characters Nap Mat, Googly Green</th>\n",
       "      <td>1</td>\n",
       "      <td>1</td>\n",
       "    </tr>\n",
       "    <tr>\n",
       "      <th>zTcase&amp;trade; Bluetooth Wireless Keyboard Case Cover for Samsung Galaxy Tab Pro 10.1 SM-T520 High Quality Folio Type for Professional and Personal Use (Tab Pro 10.1 inch, Black)</th>\n",
       "      <td>1</td>\n",
       "      <td>1</td>\n",
       "    </tr>\n",
       "    <tr>\n",
       "      <th>zutano for aden by aden + anais 100% Cotton Muslin Burpy Bib, Walk In The Park</th>\n",
       "      <td>2</td>\n",
       "      <td>2</td>\n",
       "    </tr>\n",
       "    <tr>\n",
       "      <th>zutano for aden by aden + anais 100% Cotton Muslin Little Bib, Sunday Drive, 3 Count</th>\n",
       "      <td>2</td>\n",
       "      <td>2</td>\n",
       "    </tr>\n",
       "    <tr>\n",
       "      <th>zutano for aden by aden + anais 100% Cotton Muslin Swaddle Blanket, Walk In The Park, 4 Count</th>\n",
       "      <td>3</td>\n",
       "      <td>3</td>\n",
       "    </tr>\n",
       "  </tbody>\n",
       "</table>\n",
       "<p>32417 rows × 2 columns</p>\n",
       "</div>"
      ],
      "text/plain": [
       "                                                    review  rating\n",
       "name                                                              \n",
       "# 1 Digital Baby Thermometer - With FREE LIFETI...       4       4\n",
       "#1 Adjustable Back Seat Baby Safety Mirror - Ea...       1       1\n",
       "#1 Baby Bottle Brush for All Types of Bottles &...       3       3\n",
       "#1 Premium Baby Nasal Aspirator by Cutietots - ...       4       4\n",
       "#120 - 2.5mm Dr Mom Specula Tips - Premium Quality       2       2\n",
       "...                                                    ...     ...\n",
       "zCush Cotton Characters Nap Mat, Googly Green            1       1\n",
       "zTcase&trade; Bluetooth Wireless Keyboard Case ...       1       1\n",
       "zutano for aden by aden + anais 100% Cotton Mus...       2       2\n",
       "zutano for aden by aden + anais 100% Cotton Mus...       2       2\n",
       "zutano for aden by aden + anais 100% Cotton Mus...       3       3\n",
       "\n",
       "[32417 rows x 2 columns]"
      ]
     },
     "execution_count": 2,
     "metadata": {},
     "output_type": "execute_result"
    }
   ],
   "source": [
    "#Q12]Total count of reviews for each product stored in DataFrame AB_q1\n",
    "AB_q1 = AB.groupby(\"name\").count()\n",
    "AB_q1"
   ]
  },
  {
   "cell_type": "code",
   "execution_count": 3,
   "id": "be98d57c",
   "metadata": {},
   "outputs": [
    {
     "data": {
      "text/html": [
       "<div>\n",
       "<style scoped>\n",
       "    .dataframe tbody tr th:only-of-type {\n",
       "        vertical-align: middle;\n",
       "    }\n",
       "\n",
       "    .dataframe tbody tr th {\n",
       "        vertical-align: top;\n",
       "    }\n",
       "\n",
       "    .dataframe thead th {\n",
       "        text-align: right;\n",
       "    }\n",
       "</style>\n",
       "<table border=\"1\" class=\"dataframe\">\n",
       "  <thead>\n",
       "    <tr style=\"text-align: right;\">\n",
       "      <th></th>\n",
       "      <th>review</th>\n",
       "      <th>rating</th>\n",
       "    </tr>\n",
       "    <tr>\n",
       "      <th>name</th>\n",
       "      <th></th>\n",
       "      <th></th>\n",
       "    </tr>\n",
       "  </thead>\n",
       "  <tbody>\n",
       "    <tr>\n",
       "      <th>&amp;quot;A Little Pillow Company&amp;quot; Hypoallergenic TODDLER PILLOW in White - 13&amp;quot;x18&amp;quot; (Ages 2 - 4)</th>\n",
       "      <td>32</td>\n",
       "      <td>32</td>\n",
       "    </tr>\n",
       "    <tr>\n",
       "      <th>(1) Cresci Products Window Wedge (2 Per Pack) WHITE color</th>\n",
       "      <td>25</td>\n",
       "      <td>25</td>\n",
       "    </tr>\n",
       "    <tr>\n",
       "      <th>*SPECIAL PROMOTION*The Art of CureTM *SAFETY KNOTTED* Honey - Certified Baltic Amber Baby Teething Necklace w/The Art of CureTM Jewelry Pouch (SHIPS AND SOLD IN USA)</th>\n",
       "      <td>62</td>\n",
       "      <td>63</td>\n",
       "    </tr>\n",
       "    <tr>\n",
       "      <th>*The Art of CureTM *SAFETY KNOTTED* - Mixed Colors - Certified Baltic Amber Baby Teething Necklace - w/The Art of CureTM Jewelry Pouch (SHIPS AND SOLD IN THE USA)</th>\n",
       "      <td>24</td>\n",
       "      <td>24</td>\n",
       "    </tr>\n",
       "    <tr>\n",
       "      <th>*The Art of CureTM *SAFETY KNOTTED* Lemon - Certified Baltic Amber Baby Teething Necklace w/&amp;quot;THE ART OF CURETM&amp;quot; Jewelry Pouch (SHIPS AND SOLD IN USA)</th>\n",
       "      <td>21</td>\n",
       "      <td>21</td>\n",
       "    </tr>\n",
       "    <tr>\n",
       "      <th>...</th>\n",
       "      <td>...</td>\n",
       "      <td>...</td>\n",
       "    </tr>\n",
       "    <tr>\n",
       "      <th>myBaby Soundspa Lullaby Sound Machine and Projector</th>\n",
       "      <td>87</td>\n",
       "      <td>89</td>\n",
       "    </tr>\n",
       "    <tr>\n",
       "      <th>mybaby HoMedics SoundSpa On-The-Go</th>\n",
       "      <td>57</td>\n",
       "      <td>57</td>\n",
       "    </tr>\n",
       "    <tr>\n",
       "      <th>phil&amp;amp;teds Lobster Highchair, Red</th>\n",
       "      <td>31</td>\n",
       "      <td>31</td>\n",
       "    </tr>\n",
       "    <tr>\n",
       "      <th>phil&amp;amp;teds Traveller Crib, Black</th>\n",
       "      <td>21</td>\n",
       "      <td>21</td>\n",
       "    </tr>\n",
       "    <tr>\n",
       "      <th>timi &amp;amp; leslie Charlie 7-Piece Diaper Bag Set, Light Brown</th>\n",
       "      <td>26</td>\n",
       "      <td>26</td>\n",
       "    </tr>\n",
       "  </tbody>\n",
       "</table>\n",
       "<p>2327 rows × 2 columns</p>\n",
       "</div>"
      ],
      "text/plain": [
       "                                                    review  rating\n",
       "name                                                              \n",
       "&quot;A Little Pillow Company&quot; Hypoallerge...      32      32\n",
       "(1) Cresci Products Window Wedge (2 Per Pack) W...      25      25\n",
       "*SPECIAL PROMOTION*The Art of CureTM *SAFETY KN...      62      63\n",
       "*The Art of CureTM *SAFETY KNOTTED* - Mixed Col...      24      24\n",
       "*The Art of CureTM *SAFETY KNOTTED* Lemon - Cer...      21      21\n",
       "...                                                    ...     ...\n",
       "myBaby Soundspa Lullaby Sound Machine and Proje...      87      89\n",
       "mybaby HoMedics SoundSpa On-The-Go                      57      57\n",
       "phil&amp;teds Lobster Highchair, Red                    31      31\n",
       "phil&amp;teds Traveller Crib, Black                     21      21\n",
       "timi &amp; leslie Charlie 7-Piece Diaper Bag Se...      26      26\n",
       "\n",
       "[2327 rows x 2 columns]"
      ]
     },
     "execution_count": 3,
     "metadata": {},
     "output_type": "execute_result"
    }
   ],
   "source": [
    "#Q13 Storing products with more than 15 reviews in DataFrame AB_q2\n",
    "AB_q2 = AB_q1[AB_q1[\"review\"]>15]\n",
    "AB_q2"
   ]
  },
  {
   "cell_type": "code",
   "execution_count": 4,
   "id": "4a1ac55d",
   "metadata": {},
   "outputs": [
    {
     "data": {
      "text/plain": [
       "name      318\n",
       "review    829\n",
       "rating      0\n",
       "dtype: int64"
      ]
     },
     "execution_count": 4,
     "metadata": {},
     "output_type": "execute_result"
    }
   ],
   "source": [
    "#Q14]Checking the missing values\n",
    "AB.isnull().sum()"
   ]
  },
  {
   "cell_type": "code",
   "execution_count": 5,
   "id": "fccae079",
   "metadata": {},
   "outputs": [],
   "source": [
    "#Removing missing values\n",
    "AB.dropna(subset=[\"name\", \"review\"], inplace=True)"
   ]
  },
  {
   "cell_type": "code",
   "execution_count": 6,
   "id": "f66d9f05",
   "metadata": {},
   "outputs": [
    {
     "data": {
      "text/plain": [
       "name      0\n",
       "review    0\n",
       "rating    0\n",
       "dtype: int64"
      ]
     },
     "execution_count": 6,
     "metadata": {},
     "output_type": "execute_result"
    }
   ],
   "source": [
    "#Verified that no missing values remain\n",
    "AB.isnull().sum()"
   ]
  },
  {
   "cell_type": "code",
   "execution_count": 7,
   "id": "cef29afc",
   "metadata": {},
   "outputs": [],
   "source": [
    "#Cleaning data as per Q15]\n",
    "#dictionary of common contractions\n",
    "contractions = {\n",
    "\"a'ight\":\"alright\",\n",
    "\"ain't\":\"are not\",\n",
    "\"amn't\":\"am not\",\n",
    "\"aren't\":\"are not\",\n",
    "\"can't\":\"cannot\",\n",
    "\"'cause\": \"because\",\n",
    "\"could've\":\"could have\",\n",
    "\"couldn't\":\"could not\",\n",
    "\"couldn't've\":\"could not have\",\n",
    "\"daren't\":\"dare not\",\n",
    "\"daresn't\":\"dare not\",\n",
    "\"dasn't\":\"dare not\",\n",
    "\"didn't\":\"did not\",\n",
    "\"doesn't\":\"does not\",\n",
    "\"don't\":\"do not\",\n",
    "\"everybody's\":\"everybody is\",\n",
    "\"everyone's\":\"everyone is\",\n",
    "\"giv'n\":\"given\",\n",
    "\"gonna\":\"going to\",\n",
    "\"gon't\":\"go not\", \n",
    "\"gotta\":\"got to\",\n",
    "\"hadn't\":\"had not\",\n",
    "\"had've\":\"had have\",\n",
    "\"hasn't\":\"has not\",\n",
    "\"haven't\":\"have not\",\n",
    "\"he'd\":\"he had\", \n",
    "\"he'll\":\"he will\",\n",
    "\"he's\":\"he is\",\n",
    "\"here's\":\"here is\",\n",
    "\"how'd\":\"how did\",\n",
    "\"how'll\":\"how will\",\n",
    "\"how're\":\"how are\",\n",
    "\"how's\":\"how is\",\n",
    "\"I'd\":\"I had\",\n",
    "\"I'd've\":\"I would have\",\n",
    "\"I'd'nt\":\"I would not\",\n",
    "\"I'd'nt've\":\"I would not have\",\n",
    "\"I'll\":\"I will\",\n",
    "\"I'm\":\"I am\",\n",
    "\"I've\":\"I have\",\n",
    "\"isn't\":\"is not\",\n",
    "\"it'd\":\"it would\",\n",
    "\"it'll\":\"it will\",\n",
    "\"it's\":\"it is\",\n",
    "\"let's\":\"let us\",\n",
    "\"ma'am\":\"madam\",\n",
    "\"mayn't\":\"may not\",\n",
    "\"may've\":\"may have\",\n",
    "\"mightn't\":\"might not\",\n",
    "\"might've\":\"might have\",\n",
    "\"mustn't\":\"must not\",\n",
    "\"mustn't've\":\"must not have\",\n",
    "\"must've\":\"must have\",\n",
    "\"needn't\":\"need not\",\n",
    "\"needn't've\":\"need not have\",\n",
    "\"o'clock\":\"of the clock\",\n",
    "\"oughtn't\":\"ought not\",\n",
    "\"oughtn't've\":\"ought not have\",\n",
    "\"shan't\":\"shall not\",\n",
    "\"she'd\":\"she would\",\n",
    "\"she'll\":\"she will\",\n",
    "\"she's\":\"she is\",\n",
    "\"should've\":\"should have\",\n",
    "\"shouldn't\":\"should not\",\n",
    "\"shouldn't've\":\"should not have\",\n",
    "\"somebody's\":\"somebody is\",\n",
    "\"someone's\":\"someone is\",\n",
    "\"something's\":\"something is\",\n",
    "\"so're\":\"so are\",\n",
    "\"so’s\":\"so is\",\n",
    "\"so’ve\":\"so have\",\n",
    "\"that'll\":\"that will\",\n",
    "\"that're\":\"that are\",\n",
    "\"that's\":\"that is\",\n",
    "\"that'd\":\"that would\",\n",
    "\"there'd\":\"there would\",\n",
    "\"there'll\":\"there will\",\n",
    "\"there're\":\"there are\",\n",
    "\"there's\":\"there is\",\n",
    "\"these're\":\"these are\",\n",
    "\"these've\":\"these have\",\n",
    "\"they'd\":\"they would\",\n",
    "\"they'll\":\"they will\",\n",
    "\"they're\":\"they are\",\n",
    "\"they've\":\"they have\",\n",
    "\"this's\":\"this is\",\n",
    "\"those're\":\"those are\",\n",
    "\"those've\":\"those have\",\n",
    "\"to've\":\"to have\",\n",
    "\"wasn't\":\"was not\",\n",
    "\"we'd\":\"we would\",\n",
    "\"we'd've\":\"we would have\",\n",
    "\"we'll\":\"we will\",\n",
    "\"we're\":\"we are\",\n",
    "\"we've\":\"we have\",\n",
    "\"weren't\":\"were not\",\n",
    "\"what'd\":\"what did\",\n",
    "\"what'll\":\"what will\",\n",
    "\"what're\":\"what are\",\n",
    "\"what's\":\"what is\",\n",
    "\"what've\":\"what have\",\n",
    "\"when's\":\"when is\",\n",
    "\"where'd\":\"where did\",\n",
    "\"where'll\":\"where will\",\n",
    "\"where're\":\"where are\",\n",
    "\"where's\":\"where is\",\n",
    "\"where've\":\"where have\",\n",
    "\"which'd\":\"which would\",\n",
    "\"which'll\":\"which will\",\n",
    "\"which're\":\"which are\",\n",
    "\"which's\":\"which is\",\n",
    "\"which've\":\"which have\",\n",
    "\"who'd\":\"who would\",\n",
    "\"who'd've\":\"who would have\",\n",
    "\"who'll\":\"who will\",\n",
    "\"who're\":\"who are\",\n",
    "\"who's\":\"who is\",\n",
    "\"who've\":\"who have\",\n",
    "\"why'd\":\"why did\",\n",
    "\"why're\":\"why are\",\n",
    "\"why's\":\"why is\",\n",
    "\"won't\":\"will not\",\n",
    "\"would've\":\"would have\",\n",
    "\"wouldn't\":\"would not\",\n",
    "\"wouldn't've\":\"would not have\",\n",
    "\"y'at\":\"you at\",\n",
    "\"yes’m\":\"yes madam\",\n",
    "\"you'd\":\"you would\",\n",
    "\"you'll\":\"you will\",\n",
    "\"you're\":\"you are\",\n",
    "\"you've\":\"you have\"}"
   ]
  },
  {
   "cell_type": "code",
   "execution_count": 8,
   "id": "09ddcfeb",
   "metadata": {},
   "outputs": [],
   "source": [
    "def contract_to_expand(x):\n",
    "    if type(x) is str:\n",
    "        x = x.replace('\\\\','')\n",
    "        for key in contractions:\n",
    "            value = contractions[key]\n",
    "            x = x.replace(key, value)\n",
    "        return x\n",
    "    else:\n",
    "        return x"
   ]
  },
  {
   "cell_type": "code",
   "execution_count": 9,
   "id": "f913cab9",
   "metadata": {},
   "outputs": [],
   "source": [
    "#Replacing contractions with expansions\n",
    "AB[\"review\"] = AB[\"review\"].apply(lambda x:contract_to_expand(x))"
   ]
  },
  {
   "cell_type": "code",
   "execution_count": 10,
   "id": "f176b56b",
   "metadata": {},
   "outputs": [],
   "source": [
    "#Dictionary of punctuations\n",
    "punctuation = {\".\":\"\", \",\":\"\", \"'\":\"\", \"?\":\"\", \"!\":\"\", \":\":\"\", \";\":\"\", \"-\":\"\", \"_\":\"\", \"(\":\"\", \")\":\"\", \n",
    "       }"
   ]
  },
  {
   "cell_type": "code",
   "execution_count": 11,
   "id": "8fa754ad",
   "metadata": {},
   "outputs": [],
   "source": [
    "def remove_punctuation(x):\n",
    "    if type(x) is str:\n",
    "        for key in punctuation:\n",
    "            value = punctuation[key]\n",
    "            x = x.replace(key, value)\n",
    "        return x\n",
    "    else:\n",
    "        return x"
   ]
  },
  {
   "cell_type": "code",
   "execution_count": 12,
   "id": "28202aee",
   "metadata": {},
   "outputs": [],
   "source": [
    "#Removing punctuations from reviews\n",
    "AB[\"review\"] = AB[\"review\"].apply(lambda x:remove_punctuation(x))"
   ]
  },
  {
   "cell_type": "code",
   "execution_count": 13,
   "id": "42e4c460",
   "metadata": {},
   "outputs": [],
   "source": [
    "def upper_to_lower(x):\n",
    "    x = x.lower()\n",
    "    return x"
   ]
  },
  {
   "cell_type": "code",
   "execution_count": 14,
   "id": "61162e02",
   "metadata": {},
   "outputs": [],
   "source": [
    "#Changing uppercase letters to lowercase\n",
    "AB[\"review\"] = AB[\"review\"].apply(lambda x:upper_to_lower(x))"
   ]
  },
  {
   "cell_type": "code",
   "execution_count": 15,
   "id": "a53fb5ac",
   "metadata": {},
   "outputs": [],
   "source": [
    "from textblob import TextBlob"
   ]
  },
  {
   "cell_type": "code",
   "execution_count": 16,
   "id": "7ad3c762",
   "metadata": {},
   "outputs": [],
   "source": [
    "#Q16] Calculating he Polarity,length of the review,word count\n",
    "AB['polarity'] = AB['review'].apply(lambda x: TextBlob(x).sentiment.polarity)\n",
    "AB['review_len'] = AB['review'].apply(lambda x:len(x))\n",
    "AB['word_count'] = AB['review'].apply(lambda x: len(x.split()))\n"
   ]
  },
  {
   "cell_type": "code",
   "execution_count": 17,
   "id": "59b1a62a",
   "metadata": {},
   "outputs": [],
   "source": [
    "def avg_word_len(x):\n",
    "    words = x.split()\n",
    "    if(len(words) ==0):\n",
    "        return 0\n",
    "    else:\n",
    "        word_len = 0\n",
    "        for word in words:\n",
    "            word_len = word_len + len(word)\n",
    "        return word_len/len(words)    "
   ]
  },
  {
   "cell_type": "code",
   "execution_count": 18,
   "id": "d7c53dcd",
   "metadata": {},
   "outputs": [],
   "source": [
    "#Computing the average word length of each review\n",
    "AB[\"avg_word_len\"] = AB['review'].apply(lambda x: avg_word_len(x))"
   ]
  },
  {
   "cell_type": "code",
   "execution_count": 19,
   "id": "25ae4515",
   "metadata": {},
   "outputs": [
    {
     "data": {
      "text/plain": [
       "array([[<AxesSubplot:title={'center':'word_count'}>]], dtype=object)"
      ]
     },
     "execution_count": 19,
     "metadata": {},
     "output_type": "execute_result"
    },
    {
     "data": {
      "image/png": "[encoded data removed]",
      "text/plain": [
       "<Figure size 432x288 with 1 Axes>"
      ]
     },
     "metadata": {
      "needs_background": "light"
     },
     "output_type": "display_data"
    }
   ],
   "source": [
    "#Q17]Visualisation of Distribution of wordcount\n",
    "AB.hist(column = \"word_count\",bins =50)\n"
   ]
  },
  {
   "cell_type": "code",
   "execution_count": 20,
   "id": "7dd9bc26",
   "metadata": {},
   "outputs": [
    {
     "data": {
      "text/plain": [
       "array([[<AxesSubplot:title={'center':'review_len'}>]], dtype=object)"
      ]
     },
     "execution_count": 20,
     "metadata": {},
     "output_type": "execute_result"
    },
    {
     "data": {
      "image/png": "[encoded data removed]",
      "text/plain": [
       "<Figure size 432x288 with 1 Axes>"
      ]
     },
     "metadata": {
      "needs_background": "light"
     },
     "output_type": "display_data"
    }
   ],
   "source": [
    "#Q17]Visualisation of Distribution of word length\n",
    "AB.hist(column = \"review_len\",bins = 50)"
   ]
  },
  {
   "cell_type": "code",
   "execution_count": 21,
   "id": "4abc409e",
   "metadata": {},
   "outputs": [
    {
     "data": {
      "text/plain": [
       "array([[<AxesSubplot:title={'center':'polarity'}>]], dtype=object)"
      ]
     },
     "execution_count": 21,
     "metadata": {},
     "output_type": "execute_result"
    },
    {
     "data": {
      "image/png": "[encoded data removed]",
      "text/plain": [
       "<Figure size 432x288 with 1 Axes>"
      ]
     },
     "metadata": {
      "needs_background": "light"
     },
     "output_type": "display_data"
    }
   ],
   "source": [
    "#Q17]Visualisation of Distribution of polarity\n",
    "AB.hist(column = \"polarity\",bins = 50)"
   ]
  },
  {
   "cell_type": "code",
   "execution_count": 22,
   "id": "2588a911",
   "metadata": {},
   "outputs": [
    {
     "data": {
      "text/plain": [
       "Text(0.5, 1.0, 'Polarity distribution by rating')"
      ]
     },
     "execution_count": 22,
     "metadata": {},
     "output_type": "execute_result"
    },
    {
     "data": {
      "image/png": "[encoded data removed]",
      "text/plain": [
       "<Figure size 432x288 with 1 Axes>"
      ]
     },
     "metadata": {
      "needs_background": "light"
     },
     "output_type": "display_data"
    }
   ],
   "source": [
    "#Q18]Visualising the polarity considering the rating using Boxplot\n",
    "AB.boxplot(column = [\"polarity\"], by = [\"rating\"]).set_title(\"Polarity distribution by rating\")"
   ]
  },
  {
   "cell_type": "markdown",
   "id": "b8be6ee2",
   "metadata": {},
   "source": [
    "Polarity for ratings of 2 or 3 is around 0.\n",
    "Polarity is positive for ratings of 4 or 5.\n",
    "Polarity is negative for rating of 1."
   ]
  },
  {
   "cell_type": "code",
   "execution_count": 23,
   "id": "8b5293e5",
   "metadata": {},
   "outputs": [
    {
     "data": {
      "text/plain": [
       "<AxesSubplot:>"
      ]
     },
     "execution_count": 23,
     "metadata": {},
     "output_type": "execute_result"
    },
    {
     "data": {
      "image/png": "[encoded data removed]",
      "text/plain": [
       "<Figure size 432x288 with 1 Axes>"
      ]
     },
     "metadata": {
      "needs_background": "light"
     },
     "output_type": "display_data"
    }
   ],
   "source": [
    "#Q19] Visualising the count of the reviews of each rating using a histogram\n",
    "AB.rating.hist()"
   ]
  },
  {
   "cell_type": "markdown",
   "id": "c1fec812",
   "metadata": {},
   "source": [
    "4 and 5 star ratings have the most reviews.<br>\n",
    "While 1 and 2 star ratings are few...<br>\n",
    "Perhaps, customers who are very impression with the product prefer to share their experience<br>\n",
    "While those having a bad experience just give a 1 star rating and move on"
   ]
  },
  {
   "cell_type": "code",
   "execution_count": 24,
   "id": "5366c6e8",
   "metadata": {},
   "outputs": [
    {
     "data": {
      "text/html": [
       "<div>\n",
       "<style scoped>\n",
       "    .dataframe tbody tr th:only-of-type {\n",
       "        vertical-align: middle;\n",
       "    }\n",
       "\n",
       "    .dataframe tbody tr th {\n",
       "        vertical-align: top;\n",
       "    }\n",
       "\n",
       "    .dataframe thead th {\n",
       "        text-align: right;\n",
       "    }\n",
       "</style>\n",
       "<table border=\"1\" class=\"dataframe\">\n",
       "  <thead>\n",
       "    <tr style=\"text-align: right;\">\n",
       "      <th></th>\n",
       "      <th>name</th>\n",
       "      <th>polarity</th>\n",
       "      <th>rating</th>\n",
       "    </tr>\n",
       "  </thead>\n",
       "  <tbody>\n",
       "    <tr>\n",
       "      <th>49479</th>\n",
       "      <td>Graco Humidifier Replacement Filter for 4.0 Ga...</td>\n",
       "      <td>1.0</td>\n",
       "      <td>5</td>\n",
       "    </tr>\n",
       "    <tr>\n",
       "      <th>48557</th>\n",
       "      <td>Good Wood Eggs, Six in a Recyclable Carton (ch...</td>\n",
       "      <td>1.0</td>\n",
       "      <td>5</td>\n",
       "    </tr>\n",
       "    <tr>\n",
       "      <th>71634</th>\n",
       "      <td>Summer Infant Metal Expansion Gate, 6 Foot Wid...</td>\n",
       "      <td>1.0</td>\n",
       "      <td>5</td>\n",
       "    </tr>\n",
       "    <tr>\n",
       "      <th>68875</th>\n",
       "      <td>Starting Small Monkey Novelty Hamper in Brown,...</td>\n",
       "      <td>1.0</td>\n",
       "      <td>4</td>\n",
       "    </tr>\n",
       "    <tr>\n",
       "      <th>96803</th>\n",
       "      <td>Orbelle 3-6T Toddler Bed, Natural</td>\n",
       "      <td>1.0</td>\n",
       "      <td>5</td>\n",
       "    </tr>\n",
       "    <tr>\n",
       "      <th>38466</th>\n",
       "      <td>Graco Pack \\'N Play Playard with Bassinet in R...</td>\n",
       "      <td>1.0</td>\n",
       "      <td>5</td>\n",
       "    </tr>\n",
       "    <tr>\n",
       "      <th>48961</th>\n",
       "      <td>Sugarbooger Baby Closet Dividers, Peek-A-Boo Blue</td>\n",
       "      <td>1.0</td>\n",
       "      <td>5</td>\n",
       "    </tr>\n",
       "    <tr>\n",
       "      <th>163012</th>\n",
       "      <td>Maclaren Mark II Stroller Midnight Navy</td>\n",
       "      <td>1.0</td>\n",
       "      <td>5</td>\n",
       "    </tr>\n",
       "    <tr>\n",
       "      <th>176587</th>\n",
       "      <td>Jeep Perfect Pockets Back Pack, Black</td>\n",
       "      <td>1.0</td>\n",
       "      <td>5</td>\n",
       "    </tr>\n",
       "    <tr>\n",
       "      <th>151568</th>\n",
       "      <td>Taggies Buddy Dog Cozy Blanket</td>\n",
       "      <td>1.0</td>\n",
       "      <td>5</td>\n",
       "    </tr>\n",
       "    <tr>\n",
       "      <th>121140</th>\n",
       "      <td>Piyo Piyo Yellow Baby Nail Scissors</td>\n",
       "      <td>1.0</td>\n",
       "      <td>5</td>\n",
       "    </tr>\n",
       "    <tr>\n",
       "      <th>106667</th>\n",
       "      <td>Prince Lionheart Deluxe Drying Station</td>\n",
       "      <td>1.0</td>\n",
       "      <td>5</td>\n",
       "    </tr>\n",
       "    <tr>\n",
       "      <th>121121</th>\n",
       "      <td>Piyo Piyo Yellow Baby Nail Scissors</td>\n",
       "      <td>1.0</td>\n",
       "      <td>5</td>\n",
       "    </tr>\n",
       "    <tr>\n",
       "      <th>121114</th>\n",
       "      <td>Piyo Piyo Yellow Baby Nail Scissors</td>\n",
       "      <td>1.0</td>\n",
       "      <td>5</td>\n",
       "    </tr>\n",
       "    <tr>\n",
       "      <th>38574</th>\n",
       "      <td>Graco Pack \\'N Play Playard with Bassinet in R...</td>\n",
       "      <td>1.0</td>\n",
       "      <td>5</td>\n",
       "    </tr>\n",
       "    <tr>\n",
       "      <th>169434</th>\n",
       "      <td>Breast Pump Kit for Medela Pump in Style Advan...</td>\n",
       "      <td>1.0</td>\n",
       "      <td>5</td>\n",
       "    </tr>\n",
       "    <tr>\n",
       "      <th>121041</th>\n",
       "      <td>Christmas Holiday Time Reusable Wall Decoratio...</td>\n",
       "      <td>1.0</td>\n",
       "      <td>5</td>\n",
       "    </tr>\n",
       "    <tr>\n",
       "      <th>174184</th>\n",
       "      <td>Kids Embrace Toddler/Booster Car Seat - Batman</td>\n",
       "      <td>1.0</td>\n",
       "      <td>5</td>\n",
       "    </tr>\n",
       "    <tr>\n",
       "      <th>34742</th>\n",
       "      <td>Vulli Sophie the Giraffe Teether</td>\n",
       "      <td>1.0</td>\n",
       "      <td>5</td>\n",
       "    </tr>\n",
       "    <tr>\n",
       "      <th>176633</th>\n",
       "      <td>Joy Baby Infant Dinosaur Costume Crochet Knit ...</td>\n",
       "      <td>1.0</td>\n",
       "      <td>5</td>\n",
       "    </tr>\n",
       "  </tbody>\n",
       "</table>\n",
       "</div>"
      ],
      "text/plain": [
       "                                                     name  polarity  rating\n",
       "49479   Graco Humidifier Replacement Filter for 4.0 Ga...       1.0       5\n",
       "48557   Good Wood Eggs, Six in a Recyclable Carton (ch...       1.0       5\n",
       "71634   Summer Infant Metal Expansion Gate, 6 Foot Wid...       1.0       5\n",
       "68875   Starting Small Monkey Novelty Hamper in Brown,...       1.0       4\n",
       "96803                   Orbelle 3-6T Toddler Bed, Natural       1.0       5\n",
       "38466   Graco Pack \\'N Play Playard with Bassinet in R...       1.0       5\n",
       "48961   Sugarbooger Baby Closet Dividers, Peek-A-Boo Blue       1.0       5\n",
       "163012            Maclaren Mark II Stroller Midnight Navy       1.0       5\n",
       "176587              Jeep Perfect Pockets Back Pack, Black       1.0       5\n",
       "151568                     Taggies Buddy Dog Cozy Blanket       1.0       5\n",
       "121140                Piyo Piyo Yellow Baby Nail Scissors       1.0       5\n",
       "106667             Prince Lionheart Deluxe Drying Station       1.0       5\n",
       "121121                Piyo Piyo Yellow Baby Nail Scissors       1.0       5\n",
       "121114                Piyo Piyo Yellow Baby Nail Scissors       1.0       5\n",
       "38574   Graco Pack \\'N Play Playard with Bassinet in R...       1.0       5\n",
       "169434  Breast Pump Kit for Medela Pump in Style Advan...       1.0       5\n",
       "121041  Christmas Holiday Time Reusable Wall Decoratio...       1.0       5\n",
       "174184     Kids Embrace Toddler/Booster Car Seat - Batman       1.0       5\n",
       "34742                    Vulli Sophie the Giraffe Teether       1.0       5\n",
       "176633  Joy Baby Infant Dinosaur Costume Crochet Knit ...       1.0       5"
      ]
     },
     "execution_count": 24,
     "metadata": {},
     "output_type": "execute_result"
    }
   ],
   "source": [
    "#Q20] Top 20 products based on polarity\n",
    "AB.sort_values(by=['polarity'], ascending=False).iloc[0:20,:][['name', 'polarity', 'rating']]"
   ]
  },
  {
   "cell_type": "code",
   "execution_count": 25,
   "id": "2c9307fb",
   "metadata": {},
   "outputs": [
    {
     "data": {
      "text/plain": [
       "rating\n",
       "1    460.586159\n",
       "2    495.295000\n",
       "3    480.940138\n",
       "4    478.037576\n",
       "5    378.490500\n",
       "Name: review_len, dtype: float64"
      ]
     },
     "execution_count": 25,
     "metadata": {},
     "output_type": "execute_result"
    }
   ],
   "source": [
    "groupedby_rating_mean = AB.groupby('rating').mean()\n",
    "groupedby_rating_mean[\"review_len\"]"
   ]
  },
  {
   "cell_type": "code",
   "execution_count": 26,
   "id": "0c21d642",
   "metadata": {},
   "outputs": [
    {
     "data": {
      "text/plain": [
       "<matplotlib.collections.PathCollection at 0x1f4a4b67880>"
      ]
     },
     "execution_count": 26,
     "metadata": {},
     "output_type": "execute_result"
    },
    {
     "data": {
      "image/png": "[encoded data removed]",
      "text/plain": [
       "<Figure size 432x288 with 1 Axes>"
      ]
     },
     "metadata": {
      "needs_background": "light"
     },
     "output_type": "display_data"
    }
   ],
   "source": [
    "plt.scatter(groupedby_rating_mean.index, groupedby_rating_mean.review_len)"
   ]
  },
  {
   "cell_type": "code",
   "execution_count": 27,
   "id": "dd0bdabc",
   "metadata": {},
   "outputs": [
    {
     "data": {
      "text/plain": [
       "<seaborn.axisgrid.FacetGrid at 0x1f4a4b961f0>"
      ]
     },
     "execution_count": 27,
     "metadata": {},
     "output_type": "execute_result"
    },
    {
     "data": {
      "image/png": "[encoded data removed]",
      "text/plain": [
       "<Figure size 360x360 with 1 Axes>"
      ]
     },
     "metadata": {
      "needs_background": "light"
     },
     "output_type": "display_data"
    }
   ],
   "source": [
    "#Q21] Using catplot to check if review length changes with rating\n",
    "sns.catplot(x='rating', y='review_len', data=AB)"
   ]
  },
  {
   "cell_type": "markdown",
   "id": "cf0b2381",
   "metadata": {},
   "source": [
    "Review length does change with rating.<br>\n",
    "4 and 5 star ratings have longer reviews<br>\n",
    "1 and 2 star ratings have shorter reviews<br>"
   ]
  },
  {
   "cell_type": "code",
   "execution_count": 28,
   "id": "3ea48296",
   "metadata": {},
   "outputs": [],
   "source": [
    "from sklearn.feature_extraction.text import CountVectorizer\n",
    "def get_top_n_words(x, n=None):\n",
    "    vec = CountVectorizer(stop_words='english').fit(x)\n",
    "    bag_of_words = vec.transform(x)\n",
    "    sum_words = bag_of_words.sum(axis=0) \n",
    "    words_freq = [(word, sum_words[0, idx]) for word, idx in vec.vocabulary_.items()]\n",
    "    words_freq =sorted(words_freq, key = lambda x: x[1], reverse=True)\n",
    "    return words_freq[:n]"
   ]
  },
  {
   "cell_type": "code",
   "execution_count": 29,
   "id": "33ab025a",
   "metadata": {},
   "outputs": [
    {
     "data": {
      "text/plain": [
       "[('baby', 72003),\n",
       " ('great', 57978),\n",
       " ('just', 55910),\n",
       " ('use', 52141),\n",
       " ('like', 50835),\n",
       " ('love', 43313),\n",
       " ('seat', 42586),\n",
       " ('little', 41403),\n",
       " ('easy', 40231),\n",
       " ('old', 36824),\n",
       " ('does', 36455),\n",
       " ('really', 34804),\n",
       " ('product', 33239),\n",
       " ('time', 32184),\n",
       " ('did', 31880),\n",
       " ('bought', 31544),\n",
       " ('son', 29294),\n",
       " ('good', 28909),\n",
       " ('months', 25673),\n",
       " ('stroller', 25488),\n",
       " ('daughter', 25050),\n",
       " ('used', 23602),\n",
       " ('car', 23075),\n",
       " ('loves', 22353),\n",
       " ('recommend', 20604)]"
      ]
     },
     "execution_count": 29,
     "metadata": {},
     "output_type": "execute_result"
    }
   ],
   "source": [
    "common_words = get_top_n_words(AB['review'], 25)\n",
    "common_words"
   ]
  },
  {
   "cell_type": "code",
   "execution_count": 30,
   "id": "b5128250",
   "metadata": {},
   "outputs": [
    {
     "data": {
      "text/html": [
       "<div>\n",
       "<style scoped>\n",
       "    .dataframe tbody tr th:only-of-type {\n",
       "        vertical-align: middle;\n",
       "    }\n",
       "\n",
       "    .dataframe tbody tr th {\n",
       "        vertical-align: top;\n",
       "    }\n",
       "\n",
       "    .dataframe thead th {\n",
       "        text-align: right;\n",
       "    }\n",
       "</style>\n",
       "<table border=\"1\" class=\"dataframe\">\n",
       "  <thead>\n",
       "    <tr style=\"text-align: right;\">\n",
       "      <th></th>\n",
       "      <th>Unigram Text</th>\n",
       "      <th>Count</th>\n",
       "    </tr>\n",
       "  </thead>\n",
       "  <tbody>\n",
       "    <tr>\n",
       "      <th>0</th>\n",
       "      <td>baby</td>\n",
       "      <td>72003</td>\n",
       "    </tr>\n",
       "    <tr>\n",
       "      <th>1</th>\n",
       "      <td>great</td>\n",
       "      <td>57978</td>\n",
       "    </tr>\n",
       "    <tr>\n",
       "      <th>2</th>\n",
       "      <td>just</td>\n",
       "      <td>55910</td>\n",
       "    </tr>\n",
       "    <tr>\n",
       "      <th>3</th>\n",
       "      <td>use</td>\n",
       "      <td>52141</td>\n",
       "    </tr>\n",
       "    <tr>\n",
       "      <th>4</th>\n",
       "      <td>like</td>\n",
       "      <td>50835</td>\n",
       "    </tr>\n",
       "    <tr>\n",
       "      <th>5</th>\n",
       "      <td>love</td>\n",
       "      <td>43313</td>\n",
       "    </tr>\n",
       "    <tr>\n",
       "      <th>6</th>\n",
       "      <td>seat</td>\n",
       "      <td>42586</td>\n",
       "    </tr>\n",
       "    <tr>\n",
       "      <th>7</th>\n",
       "      <td>little</td>\n",
       "      <td>41403</td>\n",
       "    </tr>\n",
       "    <tr>\n",
       "      <th>8</th>\n",
       "      <td>easy</td>\n",
       "      <td>40231</td>\n",
       "    </tr>\n",
       "    <tr>\n",
       "      <th>9</th>\n",
       "      <td>old</td>\n",
       "      <td>36824</td>\n",
       "    </tr>\n",
       "    <tr>\n",
       "      <th>10</th>\n",
       "      <td>does</td>\n",
       "      <td>36455</td>\n",
       "    </tr>\n",
       "    <tr>\n",
       "      <th>11</th>\n",
       "      <td>really</td>\n",
       "      <td>34804</td>\n",
       "    </tr>\n",
       "    <tr>\n",
       "      <th>12</th>\n",
       "      <td>product</td>\n",
       "      <td>33239</td>\n",
       "    </tr>\n",
       "    <tr>\n",
       "      <th>13</th>\n",
       "      <td>time</td>\n",
       "      <td>32184</td>\n",
       "    </tr>\n",
       "    <tr>\n",
       "      <th>14</th>\n",
       "      <td>did</td>\n",
       "      <td>31880</td>\n",
       "    </tr>\n",
       "    <tr>\n",
       "      <th>15</th>\n",
       "      <td>bought</td>\n",
       "      <td>31544</td>\n",
       "    </tr>\n",
       "    <tr>\n",
       "      <th>16</th>\n",
       "      <td>son</td>\n",
       "      <td>29294</td>\n",
       "    </tr>\n",
       "    <tr>\n",
       "      <th>17</th>\n",
       "      <td>good</td>\n",
       "      <td>28909</td>\n",
       "    </tr>\n",
       "    <tr>\n",
       "      <th>18</th>\n",
       "      <td>months</td>\n",
       "      <td>25673</td>\n",
       "    </tr>\n",
       "    <tr>\n",
       "      <th>19</th>\n",
       "      <td>stroller</td>\n",
       "      <td>25488</td>\n",
       "    </tr>\n",
       "    <tr>\n",
       "      <th>20</th>\n",
       "      <td>daughter</td>\n",
       "      <td>25050</td>\n",
       "    </tr>\n",
       "    <tr>\n",
       "      <th>21</th>\n",
       "      <td>used</td>\n",
       "      <td>23602</td>\n",
       "    </tr>\n",
       "    <tr>\n",
       "      <th>22</th>\n",
       "      <td>car</td>\n",
       "      <td>23075</td>\n",
       "    </tr>\n",
       "    <tr>\n",
       "      <th>23</th>\n",
       "      <td>loves</td>\n",
       "      <td>22353</td>\n",
       "    </tr>\n",
       "    <tr>\n",
       "      <th>24</th>\n",
       "      <td>recommend</td>\n",
       "      <td>20604</td>\n",
       "    </tr>\n",
       "  </tbody>\n",
       "</table>\n",
       "</div>"
      ],
      "text/plain": [
       "   Unigram Text  Count\n",
       "0          baby  72003\n",
       "1         great  57978\n",
       "2          just  55910\n",
       "3           use  52141\n",
       "4          like  50835\n",
       "5          love  43313\n",
       "6          seat  42586\n",
       "7        little  41403\n",
       "8          easy  40231\n",
       "9           old  36824\n",
       "10         does  36455\n",
       "11       really  34804\n",
       "12      product  33239\n",
       "13         time  32184\n",
       "14          did  31880\n",
       "15       bought  31544\n",
       "16          son  29294\n",
       "17         good  28909\n",
       "18       months  25673\n",
       "19     stroller  25488\n",
       "20     daughter  25050\n",
       "21         used  23602\n",
       "22          car  23075\n",
       "23        loves  22353\n",
       "24    recommend  20604"
      ]
     },
     "execution_count": 30,
     "metadata": {},
     "output_type": "execute_result"
    }
   ],
   "source": [
    "Unigram = pd.DataFrame(common_words, columns = ['Unigram Text' , 'Count'])\n",
    "Unigram"
   ]
  },
  {
   "cell_type": "code",
   "execution_count": 31,
   "id": "7dd64ab1",
   "metadata": {},
   "outputs": [
    {
     "data": {
      "text/plain": [
       "<AxesSubplot:xlabel='Unigram Text'>"
      ]
     },
     "execution_count": 31,
     "metadata": {},
     "output_type": "execute_result"
    },
    {
     "data": {
      "image/png": "[encoded data removed]",
      "text/plain": [
       "<Figure size 432x288 with 1 Axes>"
      ]
     },
     "metadata": {
      "needs_background": "light"
     },
     "output_type": "display_data"
    }
   ],
   "source": [
    "#Q22] Visualisation of Top 25 Unigram\n",
    "Unigram.groupby('Unigram Text').sum()['Count'].sort_values(ascending=False).plot(kind='bar')"
   ]
  },
  {
   "cell_type": "code",
   "execution_count": 32,
   "id": "d23e3c51",
   "metadata": {},
   "outputs": [],
   "source": [
    "def get_top_n_bigram(x, n=None):\n",
    "    vec = CountVectorizer(ngram_range=(2, 2), stop_words='english').fit(x)\n",
    "    bag_of_words = vec.transform(x)\n",
    "    sum_words = bag_of_words.sum(axis=0) \n",
    "    words_freq = [(word, sum_words[0, idx]) for word, idx in vec.vocabulary_.items()]\n",
    "    words_freq =sorted(words_freq, key = lambda x: x[1], reverse=True)\n",
    "    return words_freq[:n]"
   ]
  },
  {
   "cell_type": "code",
   "execution_count": 33,
   "id": "c379f754",
   "metadata": {},
   "outputs": [
    {
     "data": {
      "text/plain": [
       "[('car seat', 12023),\n",
       " ('month old', 10677),\n",
       " ('year old', 8774),\n",
       " ('months old', 6706),\n",
       " ('highly recommend', 5884),\n",
       " ('diaper bag', 4889),\n",
       " ('easy clean', 4720),\n",
       " ('easy use', 4578),\n",
       " ('works great', 3750),\n",
       " ('great product', 3596),\n",
       " ('really like', 2964),\n",
       " ('son loves', 2931),\n",
       " ('make sure', 2903),\n",
       " ('daughter loves', 2817),\n",
       " ('high chair', 2707),\n",
       " ('easy install', 2664),\n",
       " ('old son', 2435),\n",
       " ('good quality', 2413),\n",
       " ('recommend product', 2398),\n",
       " ('baby shower', 2251),\n",
       " ('definitely recommend', 2191),\n",
       " ('customer service', 2177),\n",
       " ('old loves', 2052),\n",
       " ('old daughter', 2031),\n",
       " ('baby loves', 1944)]"
      ]
     },
     "execution_count": 33,
     "metadata": {},
     "output_type": "execute_result"
    }
   ],
   "source": [
    "common_words = get_top_n_bigram(AB['review'], 25)\n",
    "common_words"
   ]
  },
  {
   "cell_type": "code",
   "execution_count": 34,
   "id": "51ee2ce3",
   "metadata": {},
   "outputs": [
    {
     "data": {
      "text/html": [
       "<div>\n",
       "<style scoped>\n",
       "    .dataframe tbody tr th:only-of-type {\n",
       "        vertical-align: middle;\n",
       "    }\n",
       "\n",
       "    .dataframe tbody tr th {\n",
       "        vertical-align: top;\n",
       "    }\n",
       "\n",
       "    .dataframe thead th {\n",
       "        text-align: right;\n",
       "    }\n",
       "</style>\n",
       "<table border=\"1\" class=\"dataframe\">\n",
       "  <thead>\n",
       "    <tr style=\"text-align: right;\">\n",
       "      <th></th>\n",
       "      <th>Bigram Text</th>\n",
       "      <th>Count</th>\n",
       "    </tr>\n",
       "  </thead>\n",
       "  <tbody>\n",
       "    <tr>\n",
       "      <th>0</th>\n",
       "      <td>car seat</td>\n",
       "      <td>12023</td>\n",
       "    </tr>\n",
       "    <tr>\n",
       "      <th>1</th>\n",
       "      <td>month old</td>\n",
       "      <td>10677</td>\n",
       "    </tr>\n",
       "    <tr>\n",
       "      <th>2</th>\n",
       "      <td>year old</td>\n",
       "      <td>8774</td>\n",
       "    </tr>\n",
       "    <tr>\n",
       "      <th>3</th>\n",
       "      <td>months old</td>\n",
       "      <td>6706</td>\n",
       "    </tr>\n",
       "    <tr>\n",
       "      <th>4</th>\n",
       "      <td>highly recommend</td>\n",
       "      <td>5884</td>\n",
       "    </tr>\n",
       "    <tr>\n",
       "      <th>5</th>\n",
       "      <td>diaper bag</td>\n",
       "      <td>4889</td>\n",
       "    </tr>\n",
       "    <tr>\n",
       "      <th>6</th>\n",
       "      <td>easy clean</td>\n",
       "      <td>4720</td>\n",
       "    </tr>\n",
       "    <tr>\n",
       "      <th>7</th>\n",
       "      <td>easy use</td>\n",
       "      <td>4578</td>\n",
       "    </tr>\n",
       "    <tr>\n",
       "      <th>8</th>\n",
       "      <td>works great</td>\n",
       "      <td>3750</td>\n",
       "    </tr>\n",
       "    <tr>\n",
       "      <th>9</th>\n",
       "      <td>great product</td>\n",
       "      <td>3596</td>\n",
       "    </tr>\n",
       "    <tr>\n",
       "      <th>10</th>\n",
       "      <td>really like</td>\n",
       "      <td>2964</td>\n",
       "    </tr>\n",
       "    <tr>\n",
       "      <th>11</th>\n",
       "      <td>son loves</td>\n",
       "      <td>2931</td>\n",
       "    </tr>\n",
       "    <tr>\n",
       "      <th>12</th>\n",
       "      <td>make sure</td>\n",
       "      <td>2903</td>\n",
       "    </tr>\n",
       "    <tr>\n",
       "      <th>13</th>\n",
       "      <td>daughter loves</td>\n",
       "      <td>2817</td>\n",
       "    </tr>\n",
       "    <tr>\n",
       "      <th>14</th>\n",
       "      <td>high chair</td>\n",
       "      <td>2707</td>\n",
       "    </tr>\n",
       "    <tr>\n",
       "      <th>15</th>\n",
       "      <td>easy install</td>\n",
       "      <td>2664</td>\n",
       "    </tr>\n",
       "    <tr>\n",
       "      <th>16</th>\n",
       "      <td>old son</td>\n",
       "      <td>2435</td>\n",
       "    </tr>\n",
       "    <tr>\n",
       "      <th>17</th>\n",
       "      <td>good quality</td>\n",
       "      <td>2413</td>\n",
       "    </tr>\n",
       "    <tr>\n",
       "      <th>18</th>\n",
       "      <td>recommend product</td>\n",
       "      <td>2398</td>\n",
       "    </tr>\n",
       "    <tr>\n",
       "      <th>19</th>\n",
       "      <td>baby shower</td>\n",
       "      <td>2251</td>\n",
       "    </tr>\n",
       "    <tr>\n",
       "      <th>20</th>\n",
       "      <td>definitely recommend</td>\n",
       "      <td>2191</td>\n",
       "    </tr>\n",
       "    <tr>\n",
       "      <th>21</th>\n",
       "      <td>customer service</td>\n",
       "      <td>2177</td>\n",
       "    </tr>\n",
       "    <tr>\n",
       "      <th>22</th>\n",
       "      <td>old loves</td>\n",
       "      <td>2052</td>\n",
       "    </tr>\n",
       "    <tr>\n",
       "      <th>23</th>\n",
       "      <td>old daughter</td>\n",
       "      <td>2031</td>\n",
       "    </tr>\n",
       "    <tr>\n",
       "      <th>24</th>\n",
       "      <td>baby loves</td>\n",
       "      <td>1944</td>\n",
       "    </tr>\n",
       "  </tbody>\n",
       "</table>\n",
       "</div>"
      ],
      "text/plain": [
       "             Bigram Text  Count\n",
       "0               car seat  12023\n",
       "1              month old  10677\n",
       "2               year old   8774\n",
       "3             months old   6706\n",
       "4       highly recommend   5884\n",
       "5             diaper bag   4889\n",
       "6             easy clean   4720\n",
       "7               easy use   4578\n",
       "8            works great   3750\n",
       "9          great product   3596\n",
       "10           really like   2964\n",
       "11             son loves   2931\n",
       "12             make sure   2903\n",
       "13        daughter loves   2817\n",
       "14            high chair   2707\n",
       "15          easy install   2664\n",
       "16               old son   2435\n",
       "17          good quality   2413\n",
       "18     recommend product   2398\n",
       "19           baby shower   2251\n",
       "20  definitely recommend   2191\n",
       "21      customer service   2177\n",
       "22             old loves   2052\n",
       "23          old daughter   2031\n",
       "24            baby loves   1944"
      ]
     },
     "execution_count": 34,
     "metadata": {},
     "output_type": "execute_result"
    }
   ],
   "source": [
    "Bigram = pd.DataFrame(common_words, columns = ['Bigram Text' , 'Count'])\n",
    "Bigram"
   ]
  },
  {
   "cell_type": "code",
   "execution_count": 35,
   "id": "1f68fa90",
   "metadata": {},
   "outputs": [
    {
     "data": {
      "text/plain": [
       "<AxesSubplot:xlabel='Bigram Text'>"
      ]
     },
     "execution_count": 35,
     "metadata": {},
     "output_type": "execute_result"
    },
    {
     "data": {
      "image/png": "[encoded data removed]",
      "text/plain": [
       "<Figure size 432x288 with 1 Axes>"
      ]
     },
     "metadata": {
      "needs_background": "light"
     },
     "output_type": "display_data"
    }
   ],
   "source": [
    "#Q22] Visualisation of Top 25 Bigram Texts\n",
    "\n",
    "Bigram.groupby('Bigram Text').sum()['Count'].sort_values(ascending=False).plot(kind='bar')"
   ]
  },
  {
   "cell_type": "code",
   "execution_count": 36,
   "id": "8dcbbe7b",
   "metadata": {},
   "outputs": [
    {
     "data": {
      "text/plain": [
       "<AxesSubplot:xlabel='Bigram Text'>"
      ]
     },
     "execution_count": 36,
     "metadata": {},
     "output_type": "execute_result"
    },
    {
     "data": {
      "image/png": "[encoded data removed]",
      "text/plain": [
       "<Figure size 432x288 with 1 Axes>"
      ]
     },
     "metadata": {
      "needs_background": "light"
     },
     "output_type": "display_data"
    }
   ],
   "source": [
    "Bigram['polarity'] = Bigram['Bigram Text'].apply(lambda x: TextBlob(x).sentiment.polarity)\n",
    "Bigram.groupby('Bigram Text').sum()['polarity'].plot(kind='bar')"
   ]
  },
  {
   "cell_type": "code",
   "execution_count": 37,
   "id": "2b9b5118",
   "metadata": {},
   "outputs": [
    {
     "data": {
      "text/plain": [
       "array([[<AxesSubplot:title={'center':'polarity'}>]], dtype=object)"
      ]
     },
     "execution_count": 37,
     "metadata": {},
     "output_type": "execute_result"
    },
    {
     "data": {
      "image/png": "[encoded data removed]",
      "text/plain": [
       "<Figure size 432x288 with 1 Axes>"
      ]
     },
     "metadata": {
      "needs_background": "light"
     },
     "output_type": "display_data"
    }
   ],
   "source": [
    "Bigram.hist(column = \"polarity\")"
   ]
  },
  {
   "cell_type": "code",
   "execution_count": 38,
   "id": "0b648e85",
   "metadata": {},
   "outputs": [],
   "source": [
    "def get_top_n_trigram(x, n=None):\n",
    "    vec = CountVectorizer(ngram_range=(3, 3), stop_words=\"english\").fit(x)\n",
    "    bag_of_words = vec.transform(x)\n",
    "    sum_words = bag_of_words.sum(axis=0) \n",
    "    words_freq = [(word, sum_words[0, idx]) for word, idx in vec.vocabulary_.items()]\n",
    "    words_freq =sorted(words_freq, key = lambda x: x[1], reverse=True)\n",
    "    return words_freq[:n]"
   ]
  },
  {
   "cell_type": "code",
   "execution_count": 39,
   "id": "c38f4c9e",
   "metadata": {},
   "outputs": [
    {
     "data": {
      "text/html": [
       "<div>\n",
       "<style scoped>\n",
       "    .dataframe tbody tr th:only-of-type {\n",
       "        vertical-align: middle;\n",
       "    }\n",
       "\n",
       "    .dataframe tbody tr th {\n",
       "        vertical-align: top;\n",
       "    }\n",
       "\n",
       "    .dataframe thead th {\n",
       "        text-align: right;\n",
       "    }\n",
       "</style>\n",
       "<table border=\"1\" class=\"dataframe\">\n",
       "  <thead>\n",
       "    <tr style=\"text-align: right;\">\n",
       "      <th></th>\n",
       "      <th>Trigram Text</th>\n",
       "      <th>Count</th>\n",
       "    </tr>\n",
       "  </thead>\n",
       "  <tbody>\n",
       "    <tr>\n",
       "      <th>0</th>\n",
       "      <td>month old son</td>\n",
       "      <td>1212</td>\n",
       "    </tr>\n",
       "    <tr>\n",
       "      <th>1</th>\n",
       "      <td>month old daughter</td>\n",
       "      <td>975</td>\n",
       "    </tr>\n",
       "    <tr>\n",
       "      <th>2</th>\n",
       "      <td>son months old</td>\n",
       "      <td>849</td>\n",
       "    </tr>\n",
       "    <tr>\n",
       "      <th>3</th>\n",
       "      <td>month old loves</td>\n",
       "      <td>804</td>\n",
       "    </tr>\n",
       "    <tr>\n",
       "      <th>4</th>\n",
       "      <td>baby shower gift</td>\n",
       "      <td>798</td>\n",
       "    </tr>\n",
       "    <tr>\n",
       "      <th>5</th>\n",
       "      <td>highly recommend product</td>\n",
       "      <td>758</td>\n",
       "    </tr>\n",
       "    <tr>\n",
       "      <th>6</th>\n",
       "      <td>love love love</td>\n",
       "      <td>678</td>\n",
       "    </tr>\n",
       "    <tr>\n",
       "      <th>7</th>\n",
       "      <td>year old son</td>\n",
       "      <td>678</td>\n",
       "    </tr>\n",
       "    <tr>\n",
       "      <th>8</th>\n",
       "      <td>daughter months old</td>\n",
       "      <td>659</td>\n",
       "    </tr>\n",
       "    <tr>\n",
       "      <th>9</th>\n",
       "      <td>year old daughter</td>\n",
       "      <td>627</td>\n",
       "    </tr>\n",
       "    <tr>\n",
       "      <th>10</th>\n",
       "      <td>infant car seat</td>\n",
       "      <td>592</td>\n",
       "    </tr>\n",
       "    <tr>\n",
       "      <th>11</th>\n",
       "      <td>10 month old</td>\n",
       "      <td>515</td>\n",
       "    </tr>\n",
       "    <tr>\n",
       "      <th>12</th>\n",
       "      <td>18 month old</td>\n",
       "      <td>504</td>\n",
       "    </tr>\n",
       "    <tr>\n",
       "      <th>13</th>\n",
       "      <td>baby months old</td>\n",
       "      <td>482</td>\n",
       "    </tr>\n",
       "    <tr>\n",
       "      <th>14</th>\n",
       "      <td>year old loves</td>\n",
       "      <td>476</td>\n",
       "    </tr>\n",
       "    <tr>\n",
       "      <th>15</th>\n",
       "      <td>month old baby</td>\n",
       "      <td>449</td>\n",
       "    </tr>\n",
       "    <tr>\n",
       "      <th>16</th>\n",
       "      <td>months old loves</td>\n",
       "      <td>406</td>\n",
       "    </tr>\n",
       "    <tr>\n",
       "      <th>17</th>\n",
       "      <td>just right size</td>\n",
       "      <td>399</td>\n",
       "    </tr>\n",
       "    <tr>\n",
       "      <th>18</th>\n",
       "      <td>old son loves</td>\n",
       "      <td>398</td>\n",
       "    </tr>\n",
       "    <tr>\n",
       "      <th>19</th>\n",
       "      <td>bought month old</td>\n",
       "      <td>387</td>\n",
       "    </tr>\n",
       "    <tr>\n",
       "      <th>20</th>\n",
       "      <td>dont waste money</td>\n",
       "      <td>387</td>\n",
       "    </tr>\n",
       "    <tr>\n",
       "      <th>21</th>\n",
       "      <td>just make sure</td>\n",
       "      <td>387</td>\n",
       "    </tr>\n",
       "    <tr>\n",
       "      <th>22</th>\n",
       "      <td>dr browns bottles</td>\n",
       "      <td>377</td>\n",
       "    </tr>\n",
       "    <tr>\n",
       "      <th>23</th>\n",
       "      <td>car seat stroller</td>\n",
       "      <td>376</td>\n",
       "    </tr>\n",
       "    <tr>\n",
       "      <th>24</th>\n",
       "      <td>bought year old</td>\n",
       "      <td>353</td>\n",
       "    </tr>\n",
       "  </tbody>\n",
       "</table>\n",
       "</div>"
      ],
      "text/plain": [
       "                Trigram Text  Count\n",
       "0              month old son   1212\n",
       "1         month old daughter    975\n",
       "2             son months old    849\n",
       "3            month old loves    804\n",
       "4           baby shower gift    798\n",
       "5   highly recommend product    758\n",
       "6             love love love    678\n",
       "7               year old son    678\n",
       "8        daughter months old    659\n",
       "9          year old daughter    627\n",
       "10           infant car seat    592\n",
       "11              10 month old    515\n",
       "12              18 month old    504\n",
       "13           baby months old    482\n",
       "14            year old loves    476\n",
       "15            month old baby    449\n",
       "16          months old loves    406\n",
       "17           just right size    399\n",
       "18             old son loves    398\n",
       "19          bought month old    387\n",
       "20          dont waste money    387\n",
       "21            just make sure    387\n",
       "22         dr browns bottles    377\n",
       "23         car seat stroller    376\n",
       "24           bought year old    353"
      ]
     },
     "execution_count": 39,
     "metadata": {},
     "output_type": "execute_result"
    }
   ],
   "source": [
    "common_words2 = get_top_n_trigram(AB['review'], 25)\n",
    "Trigram = pd.DataFrame(common_words2, columns = ['Trigram Text' , 'Count'])\n",
    "Trigram"
   ]
  },
  {
   "cell_type": "code",
   "execution_count": 40,
   "id": "b9b05f86",
   "metadata": {},
   "outputs": [
    {
     "data": {
      "text/plain": [
       "<AxesSubplot:xlabel='Trigram Text'>"
      ]
     },
     "execution_count": 40,
     "metadata": {},
     "output_type": "execute_result"
    },
    {
     "data": {
      "image/png": "[encoded data removed]",
      "text/plain": [
       "<Figure size 432x288 with 1 Axes>"
      ]
     },
     "metadata": {
      "needs_background": "light"
     },
     "output_type": "display_data"
    }
   ],
   "source": [
    "#Q22] Visualisation of Top 25 Bigram Texts\n",
    "Trigram.groupby('Trigram Text').sum()['Count'].sort_values(ascending=False).plot(kind='bar')"
   ]
  },
  {
   "cell_type": "code",
   "execution_count": 41,
   "id": "7e51f220",
   "metadata": {
    "scrolled": true
   },
   "outputs": [
    {
     "data": {
      "text/plain": [
       "<AxesSubplot:xlabel='Trigram Text'>"
      ]
     },
     "execution_count": 41,
     "metadata": {},
     "output_type": "execute_result"
    },
    {
     "data": {
      "image/png": "[encoded data removed]",
      "text/plain": [
       "<Figure size 432x288 with 1 Axes>"
      ]
     },
     "metadata": {
      "needs_background": "light"
     },
     "output_type": "display_data"
    }
   ],
   "source": [
    "Trigram['polarity'] = Trigram['Trigram Text'].apply(lambda x: TextBlob(x).sentiment.polarity)\n",
    "Trigram.groupby('Trigram Text').sum()['polarity'].plot(kind='bar')"
   ]
  },
  {
   "cell_type": "code",
   "execution_count": 43,
   "id": "54a9b1fb",
   "metadata": {},
   "outputs": [
    {
     "name": "stdout",
     "output_type": "stream",
     "text": [
      "<class 'pandas.core.frame.DataFrame'>\n",
      "Int64Index: 182384 entries, 0 to 183530\n",
      "Data columns (total 7 columns):\n",
      " #   Column        Non-Null Count   Dtype  \n",
      "---  ------        --------------   -----  \n",
      " 0   name          182384 non-null  object \n",
      " 1   review        182384 non-null  object \n",
      " 2   rating        182384 non-null  int64  \n",
      " 3   polarity      182384 non-null  float64\n",
      " 4   review_len    182384 non-null  int64  \n",
      " 5   word_count    182384 non-null  int64  \n",
      " 6   avg_word_len  182384 non-null  float64\n",
      "dtypes: float64(2), int64(3), object(2)\n",
      "memory usage: 15.2+ MB\n"
     ]
    }
   ],
   "source": [
    "AB.info()"
   ]
  },
  {
   "cell_type": "code",
   "execution_count": 44,
   "id": "a3ddf493",
   "metadata": {},
   "outputs": [
    {
     "name": "stdout",
     "output_type": "stream",
     "text": [
      "<class 'pandas.core.frame.DataFrame'>\n",
      "Int64Index: 182384 entries, 0 to 183530\n",
      "Data columns (total 7 columns):\n",
      " #   Column        Non-Null Count   Dtype  \n",
      "---  ------        --------------   -----  \n",
      " 0   name          182384 non-null  object \n",
      " 1   review        182384 non-null  object \n",
      " 2   rating        182384 non-null  object \n",
      " 3   polarity      182384 non-null  float64\n",
      " 4   review_len    182384 non-null  int64  \n",
      " 5   word_count    182384 non-null  int64  \n",
      " 6   avg_word_len  182384 non-null  float64\n",
      "dtypes: float64(2), int64(2), object(3)\n",
      "memory usage: 15.2+ MB\n"
     ]
    }
   ],
   "source": [
    "AB.rating = AB.rating.astype('object')\n",
    "AB.info()"
   ]
  },
  {
   "cell_type": "code",
   "execution_count": 45,
   "id": "c0994963",
   "metadata": {},
   "outputs": [
    {
     "data": {
      "text/html": [
       "<div>\n",
       "<style scoped>\n",
       "    .dataframe tbody tr th:only-of-type {\n",
       "        vertical-align: middle;\n",
       "    }\n",
       "\n",
       "    .dataframe tbody tr th {\n",
       "        vertical-align: top;\n",
       "    }\n",
       "\n",
       "    .dataframe thead th {\n",
       "        text-align: right;\n",
       "    }\n",
       "</style>\n",
       "<table border=\"1\" class=\"dataframe\">\n",
       "  <thead>\n",
       "    <tr style=\"text-align: right;\">\n",
       "      <th></th>\n",
       "      <th>name</th>\n",
       "      <th>review</th>\n",
       "      <th>rating</th>\n",
       "      <th>polarity</th>\n",
       "      <th>review_len</th>\n",
       "      <th>word_count</th>\n",
       "      <th>avg_word_len</th>\n",
       "    </tr>\n",
       "  </thead>\n",
       "  <tbody>\n",
       "    <tr>\n",
       "      <th>0</th>\n",
       "      <td>Planetwise Flannel Wipes</td>\n",
       "      <td>these flannel wipes are ok but in my opinion n...</td>\n",
       "      <td>3</td>\n",
       "      <td>0.083333</td>\n",
       "      <td>443</td>\n",
       "      <td>79</td>\n",
       "      <td>4.594937</td>\n",
       "    </tr>\n",
       "    <tr>\n",
       "      <th>1</th>\n",
       "      <td>Planetwise Wipe Pouch</td>\n",
       "      <td>it came early and was not disappointed i love ...</td>\n",
       "      <td>5</td>\n",
       "      <td>0.367000</td>\n",
       "      <td>154</td>\n",
       "      <td>30</td>\n",
       "      <td>4.166667</td>\n",
       "    </tr>\n",
       "    <tr>\n",
       "      <th>2</th>\n",
       "      <td>Annas Dream Full Quilt with 2 Shams</td>\n",
       "      <td>very soft and comfortable and warmer than it l...</td>\n",
       "      <td>5</td>\n",
       "      <td>0.293333</td>\n",
       "      <td>137</td>\n",
       "      <td>23</td>\n",
       "      <td>5.000000</td>\n",
       "    </tr>\n",
       "    <tr>\n",
       "      <th>3</th>\n",
       "      <td>Stop Pacifier Sucking without tears with Thumb...</td>\n",
       "      <td>this is a product well worth the purchase  i h...</td>\n",
       "      <td>5</td>\n",
       "      <td>0.318767</td>\n",
       "      <td>380</td>\n",
       "      <td>74</td>\n",
       "      <td>4.094595</td>\n",
       "    </tr>\n",
       "    <tr>\n",
       "      <th>4</th>\n",
       "      <td>Stop Pacifier Sucking without tears with Thumb...</td>\n",
       "      <td>all of my kids have cried nonstop when i tried...</td>\n",
       "      <td>5</td>\n",
       "      <td>0.577778</td>\n",
       "      <td>392</td>\n",
       "      <td>76</td>\n",
       "      <td>4.131579</td>\n",
       "    </tr>\n",
       "    <tr>\n",
       "      <th>...</th>\n",
       "      <td>...</td>\n",
       "      <td>...</td>\n",
       "      <td>...</td>\n",
       "      <td>...</td>\n",
       "      <td>...</td>\n",
       "      <td>...</td>\n",
       "      <td>...</td>\n",
       "    </tr>\n",
       "    <tr>\n",
       "      <th>183526</th>\n",
       "      <td>Baby Teething Necklace for Mom Pretty Donut Sh...</td>\n",
       "      <td>such a great idea very handy to have and look ...</td>\n",
       "      <td>5</td>\n",
       "      <td>0.546000</td>\n",
       "      <td>133</td>\n",
       "      <td>27</td>\n",
       "      <td>3.962963</td>\n",
       "    </tr>\n",
       "    <tr>\n",
       "      <th>183527</th>\n",
       "      <td>Baby Teething Necklace for Mom Pretty Donut Sh...</td>\n",
       "      <td>this product rocks  it is a great blend of fun...</td>\n",
       "      <td>5</td>\n",
       "      <td>0.440625</td>\n",
       "      <td>347</td>\n",
       "      <td>64</td>\n",
       "      <td>4.406250</td>\n",
       "    </tr>\n",
       "    <tr>\n",
       "      <th>183528</th>\n",
       "      <td>Abstract 2 PK Baby / Toddler Training Cup (Pink)</td>\n",
       "      <td>this item looks great and cool for my kidsi kn...</td>\n",
       "      <td>5</td>\n",
       "      <td>0.650000</td>\n",
       "      <td>86</td>\n",
       "      <td>17</td>\n",
       "      <td>4.117647</td>\n",
       "    </tr>\n",
       "    <tr>\n",
       "      <th>183529</th>\n",
       "      <td>Baby Food Freezer Tray - Bacteria Resistant, B...</td>\n",
       "      <td>i am extremely happy with this product i have ...</td>\n",
       "      <td>5</td>\n",
       "      <td>0.379694</td>\n",
       "      <td>846</td>\n",
       "      <td>170</td>\n",
       "      <td>3.982353</td>\n",
       "    </tr>\n",
       "    <tr>\n",
       "      <th>183530</th>\n",
       "      <td>Best 2 Pack Baby Car Shade for Kids - Window S...</td>\n",
       "      <td>i love this product very mush  i have bought m...</td>\n",
       "      <td>5</td>\n",
       "      <td>0.250000</td>\n",
       "      <td>194</td>\n",
       "      <td>36</td>\n",
       "      <td>4.361111</td>\n",
       "    </tr>\n",
       "  </tbody>\n",
       "</table>\n",
       "<p>182384 rows × 7 columns</p>\n",
       "</div>"
      ],
      "text/plain": [
       "                                                     name  \\\n",
       "0                                Planetwise Flannel Wipes   \n",
       "1                                   Planetwise Wipe Pouch   \n",
       "2                     Annas Dream Full Quilt with 2 Shams   \n",
       "3       Stop Pacifier Sucking without tears with Thumb...   \n",
       "4       Stop Pacifier Sucking without tears with Thumb...   \n",
       "...                                                   ...   \n",
       "183526  Baby Teething Necklace for Mom Pretty Donut Sh...   \n",
       "183527  Baby Teething Necklace for Mom Pretty Donut Sh...   \n",
       "183528   Abstract 2 PK Baby / Toddler Training Cup (Pink)   \n",
       "183529  Baby Food Freezer Tray - Bacteria Resistant, B...   \n",
       "183530  Best 2 Pack Baby Car Shade for Kids - Window S...   \n",
       "\n",
       "                                                   review rating  polarity  \\\n",
       "0       these flannel wipes are ok but in my opinion n...      3  0.083333   \n",
       "1       it came early and was not disappointed i love ...      5  0.367000   \n",
       "2       very soft and comfortable and warmer than it l...      5  0.293333   \n",
       "3       this is a product well worth the purchase  i h...      5  0.318767   \n",
       "4       all of my kids have cried nonstop when i tried...      5  0.577778   \n",
       "...                                                   ...    ...       ...   \n",
       "183526  such a great idea very handy to have and look ...      5  0.546000   \n",
       "183527  this product rocks  it is a great blend of fun...      5  0.440625   \n",
       "183528  this item looks great and cool for my kidsi kn...      5  0.650000   \n",
       "183529  i am extremely happy with this product i have ...      5  0.379694   \n",
       "183530  i love this product very mush  i have bought m...      5  0.250000   \n",
       "\n",
       "        review_len  word_count  avg_word_len  \n",
       "0              443          79      4.594937  \n",
       "1              154          30      4.166667  \n",
       "2              137          23      5.000000  \n",
       "3              380          74      4.094595  \n",
       "4              392          76      4.131579  \n",
       "...            ...         ...           ...  \n",
       "183526         133          27      3.962963  \n",
       "183527         347          64      4.406250  \n",
       "183528          86          17      4.117647  \n",
       "183529         846         170      3.982353  \n",
       "183530         194          36      4.361111  \n",
       "\n",
       "[182384 rows x 7 columns]"
      ]
     },
     "execution_count": 45,
     "metadata": {},
     "output_type": "execute_result"
    }
   ],
   "source": [
    "AB"
   ]
  },
  {
   "cell_type": "code",
   "execution_count": 47,
   "id": "8b505e1f",
   "metadata": {},
   "outputs": [
    {
     "data": {
      "text/html": [
       "<div>\n",
       "<style scoped>\n",
       "    .dataframe tbody tr th:only-of-type {\n",
       "        vertical-align: middle;\n",
       "    }\n",
       "\n",
       "    .dataframe tbody tr th {\n",
       "        vertical-align: top;\n",
       "    }\n",
       "\n",
       "    .dataframe thead th {\n",
       "        text-align: right;\n",
       "    }\n",
       "</style>\n",
       "<table border=\"1\" class=\"dataframe\">\n",
       "  <thead>\n",
       "    <tr style=\"text-align: right;\">\n",
       "      <th></th>\n",
       "      <th>rating</th>\n",
       "      <th>positive polarity</th>\n",
       "      <th>negative polarity</th>\n",
       "      <th>avg polarity</th>\n",
       "    </tr>\n",
       "  </thead>\n",
       "  <tbody>\n",
       "    <tr>\n",
       "      <th>0</th>\n",
       "      <td>1</td>\n",
       "      <td>NaN</td>\n",
       "      <td>NaN</td>\n",
       "      <td>NaN</td>\n",
       "    </tr>\n",
       "    <tr>\n",
       "      <th>1</th>\n",
       "      <td>2</td>\n",
       "      <td>NaN</td>\n",
       "      <td>NaN</td>\n",
       "      <td>NaN</td>\n",
       "    </tr>\n",
       "    <tr>\n",
       "      <th>2</th>\n",
       "      <td>3</td>\n",
       "      <td>NaN</td>\n",
       "      <td>NaN</td>\n",
       "      <td>NaN</td>\n",
       "    </tr>\n",
       "    <tr>\n",
       "      <th>3</th>\n",
       "      <td>4</td>\n",
       "      <td>NaN</td>\n",
       "      <td>NaN</td>\n",
       "      <td>NaN</td>\n",
       "    </tr>\n",
       "    <tr>\n",
       "      <th>4</th>\n",
       "      <td>5</td>\n",
       "      <td>NaN</td>\n",
       "      <td>NaN</td>\n",
       "      <td>NaN</td>\n",
       "    </tr>\n",
       "  </tbody>\n",
       "</table>\n",
       "</div>"
      ],
      "text/plain": [
       "   rating positive polarity negative polarity avg polarity\n",
       "0       1               NaN               NaN          NaN\n",
       "1       2               NaN               NaN          NaN\n",
       "2       3               NaN               NaN          NaN\n",
       "3       4               NaN               NaN          NaN\n",
       "4       5               NaN               NaN          NaN"
      ]
     },
     "execution_count": 47,
     "metadata": {},
     "output_type": "execute_result"
    }
   ],
   "source": [
    "AB2 = pd.DataFrame(columns=['rating','positive polarity', 'negative polarity', 'avg polarity']);\n",
    "AB2['rating'] = [1,2,3,4,5]\n",
    "AB2"
   ]
  },
  {
   "cell_type": "code",
   "execution_count": 48,
   "id": "9c439668",
   "metadata": {},
   "outputs": [
    {
     "data": {
      "text/html": [
       "<div>\n",
       "<style scoped>\n",
       "    .dataframe tbody tr th:only-of-type {\n",
       "        vertical-align: middle;\n",
       "    }\n",
       "\n",
       "    .dataframe tbody tr th {\n",
       "        vertical-align: top;\n",
       "    }\n",
       "\n",
       "    .dataframe thead th {\n",
       "        text-align: right;\n",
       "    }\n",
       "</style>\n",
       "<table border=\"1\" class=\"dataframe\">\n",
       "  <thead>\n",
       "    <tr style=\"text-align: right;\">\n",
       "      <th></th>\n",
       "      <th>rating</th>\n",
       "      <th>positive polarity</th>\n",
       "      <th>negative polarity</th>\n",
       "      <th>avg polarity</th>\n",
       "    </tr>\n",
       "  </thead>\n",
       "  <tbody>\n",
       "    <tr>\n",
       "      <th>0</th>\n",
       "      <td>1</td>\n",
       "      <td>0.148541</td>\n",
       "      <td>-0.162166</td>\n",
       "      <td>0.017836</td>\n",
       "    </tr>\n",
       "    <tr>\n",
       "      <th>1</th>\n",
       "      <td>2</td>\n",
       "      <td>0.163243</td>\n",
       "      <td>-0.12353</td>\n",
       "      <td>0.081994</td>\n",
       "    </tr>\n",
       "    <tr>\n",
       "      <th>2</th>\n",
       "      <td>3</td>\n",
       "      <td>0.192987</td>\n",
       "      <td>-0.105481</td>\n",
       "      <td>0.142703</td>\n",
       "    </tr>\n",
       "    <tr>\n",
       "      <th>3</th>\n",
       "      <td>4</td>\n",
       "      <td>0.235626</td>\n",
       "      <td>-0.08895</td>\n",
       "      <td>0.209667</td>\n",
       "    </tr>\n",
       "    <tr>\n",
       "      <th>4</th>\n",
       "      <td>5</td>\n",
       "      <td>0.308855</td>\n",
       "      <td>-0.098975</td>\n",
       "      <td>0.289492</td>\n",
       "    </tr>\n",
       "  </tbody>\n",
       "</table>\n",
       "</div>"
      ],
      "text/plain": [
       "   rating positive polarity negative polarity avg polarity\n",
       "0       1          0.148541         -0.162166     0.017836\n",
       "1       2          0.163243          -0.12353     0.081994\n",
       "2       3          0.192987         -0.105481     0.142703\n",
       "3       4          0.235626          -0.08895     0.209667\n",
       "4       5          0.308855         -0.098975     0.289492"
      ]
     },
     "execution_count": 48,
     "metadata": {},
     "output_type": "execute_result"
    }
   ],
   "source": [
    "AB2.loc[AB2.rating==1,'positive polarity'] = AB.loc[(AB.rating==1) & (AB.polarity>0), 'polarity'].mean()\n",
    "AB2.loc[AB2.rating==2,'positive polarity'] = AB.loc[(AB.rating==2) & (AB.polarity>0), 'polarity'].mean()\n",
    "AB2.loc[AB2.rating==3,'positive polarity'] = AB.loc[(AB.rating==3) & (AB.polarity>0), 'polarity'].mean()\n",
    "AB2.loc[AB2.rating==4,'positive polarity'] = AB.loc[(AB.rating==4) & (AB.polarity>0), 'polarity'].mean()\n",
    "AB2.loc[AB2.rating==5,'positive polarity'] = AB.loc[(AB.rating==5) & (AB.polarity>0), 'polarity'].mean()\n",
    "\n",
    "AB2.loc[AB2.rating==1,'negative polarity'] = AB.loc[(AB.rating==1) & (AB.polarity<0), 'polarity'].mean()\n",
    "AB2.loc[AB2.rating==2,'negative polarity'] = AB.loc[(AB.rating==2) & (AB.polarity<0), 'polarity'].mean()\n",
    "AB2.loc[AB2.rating==3,'negative polarity'] = AB.loc[(AB.rating==3) & (AB.polarity<0), 'polarity'].mean()\n",
    "AB2.loc[AB2.rating==4,'negative polarity'] = AB.loc[(AB.rating==4) & (AB.polarity<0), 'polarity'].mean()\n",
    "AB2.loc[AB2.rating==5,'negative polarity'] = AB.loc[(AB.rating==5) & (AB.polarity<0), 'polarity'].mean()\n",
    "\n",
    "AB2.loc[AB2.rating==1,'avg polarity'] = AB.loc[(AB.rating==1), 'polarity'].mean()\n",
    "AB2.loc[AB2.rating==2,'avg polarity'] = AB.loc[(AB.rating==2), 'polarity'].mean()\n",
    "AB2.loc[AB2.rating==3,'avg polarity'] = AB.loc[(AB.rating==3), 'polarity'].mean()\n",
    "AB2.loc[AB2.rating==4,'avg polarity'] = AB.loc[(AB.rating==4), 'polarity'].mean()\n",
    "AB2.loc[AB2.rating==5,'avg polarity'] = AB.loc[(AB.rating==5), 'polarity'].mean()\n",
    "\n",
    "AB2"
   ]
  },
  {
   "cell_type": "code",
   "execution_count": 49,
   "id": "c2e74fcd",
   "metadata": {},
   "outputs": [
    {
     "data": {
      "text/plain": [
       "<AxesSubplot:title={'center':'Rating vs Polarity'}, xlabel='rating', ylabel='polarity'>"
      ]
     },
     "execution_count": 49,
     "metadata": {},
     "output_type": "execute_result"
    },
    {
     "data": {
      "image/png": "[encoded data removed]",
      "text/plain": [
       "<Figure size 432x288 with 1 Axes>"
      ]
     },
     "metadata": {
      "needs_background": "light"
     },
     "output_type": "display_data"
    }
   ],
   "source": [
    "AB2.plot.bar(title='Rating vs Polarity',x='rating', y=['positive polarity', 'avg polarity','negative polarity'], ylabel='polarity')"
   ]
  },
  {
   "cell_type": "code",
   "execution_count": null,
   "id": "d9ddfcef",
   "metadata": {},
   "outputs": [],
   "source": []
  }
 ],
 "metadata": {
  "kernelspec": {
   "display_name": "Python 3",
   "language": "python",
   "name": "python3"
  },
  "language_info": {
   "codemirror_mode": {
    "name": "ipython",
    "version": 3
   },
   "file_extension": ".py",
   "mimetype": "text/x-python",
   "name": "python",
   "nbconvert_exporter": "python",
   "pygments_lexer": "ipython3",
   "version": "3.8.8"
  }
 },
 "nbformat": 4,
 "nbformat_minor": 5
}
