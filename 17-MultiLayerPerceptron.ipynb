{
 "cells": [
  {
   "cell_type": "markdown",
   "id": "26b01a29",
   "metadata": {},
   "source": [
    "# ML Lab Week 6 By Smeet 200968236\n",
    "## Excercise 1"
   ]
  },
  {
   "cell_type": "markdown",
   "id": "db9afa35",
   "metadata": {},
   "source": [
    "#### Data Set Information:<br>\n",
    "\n",
    "These data are the results of a chemical analysis of wines grown in the same region in Italy but derived from three different cultivars. The analysis determined the quantities of 13 constituents found in each of the three types of wines.<br>\n",
    "\n",
    "All attributes are continuous<br>\n",
    "\n",
    "The attributes are: <br>\n",
    "1) Alcohol<br>\n",
    "2) Malic acid<br>\n",
    "3) Ash<br>\n",
    "4) Alcalinity of ash<br>\n",
    "5) Magnesium<br>\n",
    "6) Total phenols<br>\n",
    "7) Flavanoids<br>\n",
    "8) Nonflavanoid phenols<br>\n",
    "9) Proanthocyanins<br>\n",
    "10)Color intensity<br>\n",
    "11)Hue<br>\n",
    "12)OD280/OD315 of diluted wines<br>\n",
    "13)Proline<br>"
   ]
  },
  {
   "cell_type": "code",
   "execution_count": 1,
   "id": "d7604d9d",
   "metadata": {},
   "outputs": [],
   "source": [
    "import pandas as pd\n",
    "import numpy as np\n",
    "import matplotlib.pyplot as plt\n",
    "import seaborn as sns\n",
    "from sklearn.model_selection import train_test_split\n",
    "from sklearn.neural_network import MLPClassifier\n",
    "from sklearn.preprocessing import StandardScaler\n",
    "from sklearn.metrics import plot_confusion_matrix\n",
    "from sklearn.metrics import confusion_matrix"
   ]
  },
  {
   "cell_type": "code",
   "execution_count": 2,
   "id": "a1d5863b",
   "metadata": {},
   "outputs": [
    {
     "data": {
      "text/html": [
       "<div>\n",
       "<style scoped>\n",
       "    .dataframe tbody tr th:only-of-type {\n",
       "        vertical-align: middle;\n",
       "    }\n",
       "\n",
       "    .dataframe tbody tr th {\n",
       "        vertical-align: top;\n",
       "    }\n",
       "\n",
       "    .dataframe thead th {\n",
       "        text-align: right;\n",
       "    }\n",
       "</style>\n",
       "<table border=\"1\" class=\"dataframe\">\n",
       "  <thead>\n",
       "    <tr style=\"text-align: right;\">\n",
       "      <th></th>\n",
       "      <th>Class</th>\n",
       "      <th>Alcohol</th>\n",
       "      <th>Malic acid</th>\n",
       "      <th>Ash</th>\n",
       "      <th>Alcalinity of ash</th>\n",
       "      <th>Magnesium</th>\n",
       "      <th>Total phenols</th>\n",
       "      <th>Flavanoids</th>\n",
       "      <th>Nonflavanoid phenols</th>\n",
       "      <th>Proanthocyanins</th>\n",
       "      <th>Color intensity</th>\n",
       "      <th>Hue</th>\n",
       "      <th>OD280/OD315 of diluted wines</th>\n",
       "      <th>Proline</th>\n",
       "    </tr>\n",
       "  </thead>\n",
       "  <tbody>\n",
       "    <tr>\n",
       "      <th>0</th>\n",
       "      <td>1</td>\n",
       "      <td>14.23</td>\n",
       "      <td>1.71</td>\n",
       "      <td>2.43</td>\n",
       "      <td>15.6</td>\n",
       "      <td>127</td>\n",
       "      <td>2.80</td>\n",
       "      <td>3.06</td>\n",
       "      <td>0.28</td>\n",
       "      <td>2.29</td>\n",
       "      <td>5.64</td>\n",
       "      <td>1.04</td>\n",
       "      <td>3.92</td>\n",
       "      <td>1065</td>\n",
       "    </tr>\n",
       "    <tr>\n",
       "      <th>1</th>\n",
       "      <td>1</td>\n",
       "      <td>13.20</td>\n",
       "      <td>1.78</td>\n",
       "      <td>2.14</td>\n",
       "      <td>11.2</td>\n",
       "      <td>100</td>\n",
       "      <td>2.65</td>\n",
       "      <td>2.76</td>\n",
       "      <td>0.26</td>\n",
       "      <td>1.28</td>\n",
       "      <td>4.38</td>\n",
       "      <td>1.05</td>\n",
       "      <td>3.40</td>\n",
       "      <td>1050</td>\n",
       "    </tr>\n",
       "    <tr>\n",
       "      <th>2</th>\n",
       "      <td>1</td>\n",
       "      <td>13.16</td>\n",
       "      <td>2.36</td>\n",
       "      <td>2.67</td>\n",
       "      <td>18.6</td>\n",
       "      <td>101</td>\n",
       "      <td>2.80</td>\n",
       "      <td>3.24</td>\n",
       "      <td>0.30</td>\n",
       "      <td>2.81</td>\n",
       "      <td>5.68</td>\n",
       "      <td>1.03</td>\n",
       "      <td>3.17</td>\n",
       "      <td>1185</td>\n",
       "    </tr>\n",
       "    <tr>\n",
       "      <th>3</th>\n",
       "      <td>1</td>\n",
       "      <td>14.37</td>\n",
       "      <td>1.95</td>\n",
       "      <td>2.50</td>\n",
       "      <td>16.8</td>\n",
       "      <td>113</td>\n",
       "      <td>3.85</td>\n",
       "      <td>3.49</td>\n",
       "      <td>0.24</td>\n",
       "      <td>2.18</td>\n",
       "      <td>7.80</td>\n",
       "      <td>0.86</td>\n",
       "      <td>3.45</td>\n",
       "      <td>1480</td>\n",
       "    </tr>\n",
       "    <tr>\n",
       "      <th>4</th>\n",
       "      <td>1</td>\n",
       "      <td>13.24</td>\n",
       "      <td>2.59</td>\n",
       "      <td>2.87</td>\n",
       "      <td>21.0</td>\n",
       "      <td>118</td>\n",
       "      <td>2.80</td>\n",
       "      <td>2.69</td>\n",
       "      <td>0.39</td>\n",
       "      <td>1.82</td>\n",
       "      <td>4.32</td>\n",
       "      <td>1.04</td>\n",
       "      <td>2.93</td>\n",
       "      <td>735</td>\n",
       "    </tr>\n",
       "    <tr>\n",
       "      <th>...</th>\n",
       "      <td>...</td>\n",
       "      <td>...</td>\n",
       "      <td>...</td>\n",
       "      <td>...</td>\n",
       "      <td>...</td>\n",
       "      <td>...</td>\n",
       "      <td>...</td>\n",
       "      <td>...</td>\n",
       "      <td>...</td>\n",
       "      <td>...</td>\n",
       "      <td>...</td>\n",
       "      <td>...</td>\n",
       "      <td>...</td>\n",
       "      <td>...</td>\n",
       "    </tr>\n",
       "    <tr>\n",
       "      <th>173</th>\n",
       "      <td>3</td>\n",
       "      <td>13.71</td>\n",
       "      <td>5.65</td>\n",
       "      <td>2.45</td>\n",
       "      <td>20.5</td>\n",
       "      <td>95</td>\n",
       "      <td>1.68</td>\n",
       "      <td>0.61</td>\n",
       "      <td>0.52</td>\n",
       "      <td>1.06</td>\n",
       "      <td>7.70</td>\n",
       "      <td>0.64</td>\n",
       "      <td>1.74</td>\n",
       "      <td>740</td>\n",
       "    </tr>\n",
       "    <tr>\n",
       "      <th>174</th>\n",
       "      <td>3</td>\n",
       "      <td>13.40</td>\n",
       "      <td>3.91</td>\n",
       "      <td>2.48</td>\n",
       "      <td>23.0</td>\n",
       "      <td>102</td>\n",
       "      <td>1.80</td>\n",
       "      <td>0.75</td>\n",
       "      <td>0.43</td>\n",
       "      <td>1.41</td>\n",
       "      <td>7.30</td>\n",
       "      <td>0.70</td>\n",
       "      <td>1.56</td>\n",
       "      <td>750</td>\n",
       "    </tr>\n",
       "    <tr>\n",
       "      <th>175</th>\n",
       "      <td>3</td>\n",
       "      <td>13.27</td>\n",
       "      <td>4.28</td>\n",
       "      <td>2.26</td>\n",
       "      <td>20.0</td>\n",
       "      <td>120</td>\n",
       "      <td>1.59</td>\n",
       "      <td>0.69</td>\n",
       "      <td>0.43</td>\n",
       "      <td>1.35</td>\n",
       "      <td>10.20</td>\n",
       "      <td>0.59</td>\n",
       "      <td>1.56</td>\n",
       "      <td>835</td>\n",
       "    </tr>\n",
       "    <tr>\n",
       "      <th>176</th>\n",
       "      <td>3</td>\n",
       "      <td>13.17</td>\n",
       "      <td>2.59</td>\n",
       "      <td>2.37</td>\n",
       "      <td>20.0</td>\n",
       "      <td>120</td>\n",
       "      <td>1.65</td>\n",
       "      <td>0.68</td>\n",
       "      <td>0.53</td>\n",
       "      <td>1.46</td>\n",
       "      <td>9.30</td>\n",
       "      <td>0.60</td>\n",
       "      <td>1.62</td>\n",
       "      <td>840</td>\n",
       "    </tr>\n",
       "    <tr>\n",
       "      <th>177</th>\n",
       "      <td>3</td>\n",
       "      <td>14.13</td>\n",
       "      <td>4.10</td>\n",
       "      <td>2.74</td>\n",
       "      <td>24.5</td>\n",
       "      <td>96</td>\n",
       "      <td>2.05</td>\n",
       "      <td>0.76</td>\n",
       "      <td>0.56</td>\n",
       "      <td>1.35</td>\n",
       "      <td>9.20</td>\n",
       "      <td>0.61</td>\n",
       "      <td>1.60</td>\n",
       "      <td>560</td>\n",
       "    </tr>\n",
       "  </tbody>\n",
       "</table>\n",
       "<p>178 rows × 14 columns</p>\n",
       "</div>"
      ],
      "text/plain": [
       "     Class  Alcohol  Malic acid   Ash  Alcalinity of ash  Magnesium  \\\n",
       "0        1    14.23        1.71  2.43               15.6        127   \n",
       "1        1    13.20        1.78  2.14               11.2        100   \n",
       "2        1    13.16        2.36  2.67               18.6        101   \n",
       "3        1    14.37        1.95  2.50               16.8        113   \n",
       "4        1    13.24        2.59  2.87               21.0        118   \n",
       "..     ...      ...         ...   ...                ...        ...   \n",
       "173      3    13.71        5.65  2.45               20.5         95   \n",
       "174      3    13.40        3.91  2.48               23.0        102   \n",
       "175      3    13.27        4.28  2.26               20.0        120   \n",
       "176      3    13.17        2.59  2.37               20.0        120   \n",
       "177      3    14.13        4.10  2.74               24.5         96   \n",
       "\n",
       "     Total phenols  Flavanoids  Nonflavanoid phenols  Proanthocyanins  \\\n",
       "0             2.80        3.06                  0.28             2.29   \n",
       "1             2.65        2.76                  0.26             1.28   \n",
       "2             2.80        3.24                  0.30             2.81   \n",
       "3             3.85        3.49                  0.24             2.18   \n",
       "4             2.80        2.69                  0.39             1.82   \n",
       "..             ...         ...                   ...              ...   \n",
       "173           1.68        0.61                  0.52             1.06   \n",
       "174           1.80        0.75                  0.43             1.41   \n",
       "175           1.59        0.69                  0.43             1.35   \n",
       "176           1.65        0.68                  0.53             1.46   \n",
       "177           2.05        0.76                  0.56             1.35   \n",
       "\n",
       "     Color intensity   Hue  OD280/OD315 of diluted wines  Proline   \n",
       "0               5.64  1.04                          3.92      1065  \n",
       "1               4.38  1.05                          3.40      1050  \n",
       "2               5.68  1.03                          3.17      1185  \n",
       "3               7.80  0.86                          3.45      1480  \n",
       "4               4.32  1.04                          2.93       735  \n",
       "..               ...   ...                           ...       ...  \n",
       "173             7.70  0.64                          1.74       740  \n",
       "174             7.30  0.70                          1.56       750  \n",
       "175            10.20  0.59                          1.56       835  \n",
       "176             9.30  0.60                          1.62       840  \n",
       "177             9.20  0.61                          1.60       560  \n",
       "\n",
       "[178 rows x 14 columns]"
      ]
     },
     "execution_count": 2,
     "metadata": {},
     "output_type": "execute_result"
    }
   ],
   "source": [
    "wine = pd.read_csv('wine.csv')\n",
    "wine"
   ]
  },
  {
   "cell_type": "code",
   "execution_count": 3,
   "id": "6b970046",
   "metadata": {},
   "outputs": [
    {
     "data": {
      "text/plain": [
       "Class                           0\n",
       "Alcohol                         0\n",
       "Malic acid                      0\n",
       "Ash                             0\n",
       "Alcalinity of ash               0\n",
       "Magnesium                       0\n",
       "Total phenols                   0\n",
       "Flavanoids                      0\n",
       "Nonflavanoid phenols            0\n",
       "Proanthocyanins                 0\n",
       "Color intensity                 0\n",
       "Hue                             0\n",
       "OD280/OD315 of diluted wines    0\n",
       "Proline                         0\n",
       "dtype: int64"
      ]
     },
     "execution_count": 3,
     "metadata": {},
     "output_type": "execute_result"
    }
   ],
   "source": [
    "#checking for missing values\n",
    "wine.isnull().sum()"
   ]
  },
  {
   "cell_type": "code",
   "execution_count": 4,
   "id": "6fc24978",
   "metadata": {},
   "outputs": [
    {
     "name": "stdout",
     "output_type": "stream",
     "text": [
      "<class 'pandas.core.frame.DataFrame'>\n",
      "RangeIndex: 178 entries, 0 to 177\n",
      "Data columns (total 14 columns):\n",
      " #   Column                        Non-Null Count  Dtype  \n",
      "---  ------                        --------------  -----  \n",
      " 0   Class                         178 non-null    int64  \n",
      " 1   Alcohol                       178 non-null    float64\n",
      " 2   Malic acid                    178 non-null    float64\n",
      " 3   Ash                           178 non-null    float64\n",
      " 4   Alcalinity of ash             178 non-null    float64\n",
      " 5   Magnesium                     178 non-null    int64  \n",
      " 6   Total phenols                 178 non-null    float64\n",
      " 7   Flavanoids                    178 non-null    float64\n",
      " 8   Nonflavanoid phenols          178 non-null    float64\n",
      " 9   Proanthocyanins               178 non-null    float64\n",
      " 10  Color intensity               178 non-null    float64\n",
      " 11  Hue                           178 non-null    float64\n",
      " 12  OD280/OD315 of diluted wines  178 non-null    float64\n",
      " 13  Proline                       178 non-null    int64  \n",
      "dtypes: float64(11), int64(3)\n",
      "memory usage: 19.6 KB\n"
     ]
    }
   ],
   "source": [
    "#finding all numeric variables\n",
    "wine.info()"
   ]
  },
  {
   "cell_type": "code",
   "execution_count": 5,
   "id": "7fd017ab",
   "metadata": {},
   "outputs": [
    {
     "data": {
      "text/plain": [
       "Index(['Class', 'Alcohol', 'Malic acid', 'Ash', 'Alcalinity of ash',\n",
       "       'Magnesium', 'Total phenols', 'Flavanoids', 'Nonflavanoid phenols',\n",
       "       'Proanthocyanins', 'Color intensity', 'Hue',\n",
       "       'OD280/OD315 of diluted wines', 'Proline '],\n",
       "      dtype='object')"
      ]
     },
     "execution_count": 5,
     "metadata": {},
     "output_type": "execute_result"
    }
   ],
   "source": [
    "wine.columns"
   ]
  },
  {
   "cell_type": "code",
   "execution_count": 6,
   "id": "c41a2083",
   "metadata": {},
   "outputs": [],
   "source": [
    "numeric_columns = ['Alcohol', 'Malic acid', 'Ash', 'Alcalinity of ash',\n",
    "       'Magnesium', 'Total phenols', 'Flavanoids', 'Nonflavanoid phenols',\n",
    "       'Proanthocyanins', 'Color intensity', 'Hue',\n",
    "       'OD280/OD315 of diluted wines', 'Proline ']"
   ]
  },
  {
   "cell_type": "code",
   "execution_count": 7,
   "id": "c2a72574",
   "metadata": {},
   "outputs": [
    {
     "data": {
      "text/html": [
       "<div>\n",
       "<style scoped>\n",
       "    .dataframe tbody tr th:only-of-type {\n",
       "        vertical-align: middle;\n",
       "    }\n",
       "\n",
       "    .dataframe tbody tr th {\n",
       "        vertical-align: top;\n",
       "    }\n",
       "\n",
       "    .dataframe thead th {\n",
       "        text-align: right;\n",
       "    }\n",
       "</style>\n",
       "<table border=\"1\" class=\"dataframe\">\n",
       "  <thead>\n",
       "    <tr style=\"text-align: right;\">\n",
       "      <th></th>\n",
       "      <th>Alcohol</th>\n",
       "      <th>Malic acid</th>\n",
       "      <th>Ash</th>\n",
       "      <th>Alcalinity of ash</th>\n",
       "      <th>Magnesium</th>\n",
       "      <th>Total phenols</th>\n",
       "      <th>Flavanoids</th>\n",
       "      <th>Nonflavanoid phenols</th>\n",
       "      <th>Proanthocyanins</th>\n",
       "      <th>Color intensity</th>\n",
       "      <th>Hue</th>\n",
       "      <th>OD280/OD315 of diluted wines</th>\n",
       "      <th>Proline</th>\n",
       "    </tr>\n",
       "  </thead>\n",
       "  <tbody>\n",
       "    <tr>\n",
       "      <th>count</th>\n",
       "      <td>178.000000</td>\n",
       "      <td>178.000000</td>\n",
       "      <td>178.000000</td>\n",
       "      <td>178.000000</td>\n",
       "      <td>178.000000</td>\n",
       "      <td>178.000000</td>\n",
       "      <td>178.000000</td>\n",
       "      <td>178.000000</td>\n",
       "      <td>178.000000</td>\n",
       "      <td>178.000000</td>\n",
       "      <td>178.000000</td>\n",
       "      <td>178.000000</td>\n",
       "      <td>178.000000</td>\n",
       "    </tr>\n",
       "    <tr>\n",
       "      <th>mean</th>\n",
       "      <td>13.000618</td>\n",
       "      <td>2.336348</td>\n",
       "      <td>2.366517</td>\n",
       "      <td>19.494944</td>\n",
       "      <td>99.741573</td>\n",
       "      <td>2.295112</td>\n",
       "      <td>2.029270</td>\n",
       "      <td>0.361854</td>\n",
       "      <td>1.590899</td>\n",
       "      <td>5.058090</td>\n",
       "      <td>0.957449</td>\n",
       "      <td>2.611685</td>\n",
       "      <td>746.893258</td>\n",
       "    </tr>\n",
       "    <tr>\n",
       "      <th>std</th>\n",
       "      <td>0.811827</td>\n",
       "      <td>1.117146</td>\n",
       "      <td>0.274344</td>\n",
       "      <td>3.339564</td>\n",
       "      <td>14.282484</td>\n",
       "      <td>0.625851</td>\n",
       "      <td>0.998859</td>\n",
       "      <td>0.124453</td>\n",
       "      <td>0.572359</td>\n",
       "      <td>2.318286</td>\n",
       "      <td>0.228572</td>\n",
       "      <td>0.709990</td>\n",
       "      <td>314.907474</td>\n",
       "    </tr>\n",
       "    <tr>\n",
       "      <th>min</th>\n",
       "      <td>11.030000</td>\n",
       "      <td>0.740000</td>\n",
       "      <td>1.360000</td>\n",
       "      <td>10.600000</td>\n",
       "      <td>70.000000</td>\n",
       "      <td>0.980000</td>\n",
       "      <td>0.340000</td>\n",
       "      <td>0.130000</td>\n",
       "      <td>0.410000</td>\n",
       "      <td>1.280000</td>\n",
       "      <td>0.480000</td>\n",
       "      <td>1.270000</td>\n",
       "      <td>278.000000</td>\n",
       "    </tr>\n",
       "    <tr>\n",
       "      <th>25%</th>\n",
       "      <td>12.362500</td>\n",
       "      <td>1.602500</td>\n",
       "      <td>2.210000</td>\n",
       "      <td>17.200000</td>\n",
       "      <td>88.000000</td>\n",
       "      <td>1.742500</td>\n",
       "      <td>1.205000</td>\n",
       "      <td>0.270000</td>\n",
       "      <td>1.250000</td>\n",
       "      <td>3.220000</td>\n",
       "      <td>0.782500</td>\n",
       "      <td>1.937500</td>\n",
       "      <td>500.500000</td>\n",
       "    </tr>\n",
       "    <tr>\n",
       "      <th>50%</th>\n",
       "      <td>13.050000</td>\n",
       "      <td>1.865000</td>\n",
       "      <td>2.360000</td>\n",
       "      <td>19.500000</td>\n",
       "      <td>98.000000</td>\n",
       "      <td>2.355000</td>\n",
       "      <td>2.135000</td>\n",
       "      <td>0.340000</td>\n",
       "      <td>1.555000</td>\n",
       "      <td>4.690000</td>\n",
       "      <td>0.965000</td>\n",
       "      <td>2.780000</td>\n",
       "      <td>673.500000</td>\n",
       "    </tr>\n",
       "    <tr>\n",
       "      <th>75%</th>\n",
       "      <td>13.677500</td>\n",
       "      <td>3.082500</td>\n",
       "      <td>2.557500</td>\n",
       "      <td>21.500000</td>\n",
       "      <td>107.000000</td>\n",
       "      <td>2.800000</td>\n",
       "      <td>2.875000</td>\n",
       "      <td>0.437500</td>\n",
       "      <td>1.950000</td>\n",
       "      <td>6.200000</td>\n",
       "      <td>1.120000</td>\n",
       "      <td>3.170000</td>\n",
       "      <td>985.000000</td>\n",
       "    </tr>\n",
       "    <tr>\n",
       "      <th>max</th>\n",
       "      <td>14.830000</td>\n",
       "      <td>5.800000</td>\n",
       "      <td>3.230000</td>\n",
       "      <td>30.000000</td>\n",
       "      <td>162.000000</td>\n",
       "      <td>3.880000</td>\n",
       "      <td>5.080000</td>\n",
       "      <td>0.660000</td>\n",
       "      <td>3.580000</td>\n",
       "      <td>13.000000</td>\n",
       "      <td>1.710000</td>\n",
       "      <td>4.000000</td>\n",
       "      <td>1680.000000</td>\n",
       "    </tr>\n",
       "  </tbody>\n",
       "</table>\n",
       "</div>"
      ],
      "text/plain": [
       "          Alcohol  Malic acid         Ash  Alcalinity of ash   Magnesium  \\\n",
       "count  178.000000  178.000000  178.000000         178.000000  178.000000   \n",
       "mean    13.000618    2.336348    2.366517          19.494944   99.741573   \n",
       "std      0.811827    1.117146    0.274344           3.339564   14.282484   \n",
       "min     11.030000    0.740000    1.360000          10.600000   70.000000   \n",
       "25%     12.362500    1.602500    2.210000          17.200000   88.000000   \n",
       "50%     13.050000    1.865000    2.360000          19.500000   98.000000   \n",
       "75%     13.677500    3.082500    2.557500          21.500000  107.000000   \n",
       "max     14.830000    5.800000    3.230000          30.000000  162.000000   \n",
       "\n",
       "       Total phenols  Flavanoids  Nonflavanoid phenols  Proanthocyanins  \\\n",
       "count     178.000000  178.000000            178.000000       178.000000   \n",
       "mean        2.295112    2.029270              0.361854         1.590899   \n",
       "std         0.625851    0.998859              0.124453         0.572359   \n",
       "min         0.980000    0.340000              0.130000         0.410000   \n",
       "25%         1.742500    1.205000              0.270000         1.250000   \n",
       "50%         2.355000    2.135000              0.340000         1.555000   \n",
       "75%         2.800000    2.875000              0.437500         1.950000   \n",
       "max         3.880000    5.080000              0.660000         3.580000   \n",
       "\n",
       "       Color intensity         Hue  OD280/OD315 of diluted wines     Proline   \n",
       "count       178.000000  178.000000                    178.000000   178.000000  \n",
       "mean          5.058090    0.957449                      2.611685   746.893258  \n",
       "std           2.318286    0.228572                      0.709990   314.907474  \n",
       "min           1.280000    0.480000                      1.270000   278.000000  \n",
       "25%           3.220000    0.782500                      1.937500   500.500000  \n",
       "50%           4.690000    0.965000                      2.780000   673.500000  \n",
       "75%           6.200000    1.120000                      3.170000   985.000000  \n",
       "max          13.000000    1.710000                      4.000000  1680.000000  "
      ]
     },
     "execution_count": 7,
     "metadata": {},
     "output_type": "execute_result"
    }
   ],
   "source": [
    "#Tabulation of distribution of numeric variables\n",
    "wine[numeric_columns].describe()"
   ]
  },
  {
   "cell_type": "code",
   "execution_count": 8,
   "id": "30e83fc2",
   "metadata": {},
   "outputs": [
    {
     "data": {
      "image/png": "[encoded data removed]",
      "text/plain": [
       "<Figure size 432x288 with 1 Axes>"
      ]
     },
     "metadata": {
      "needs_background": "light"
     },
     "output_type": "display_data"
    },
    {
     "data": {
      "image/png": "[encoded data removed]",
      "text/plain": [
       "<Figure size 432x288 with 1 Axes>"
      ]
     },
     "metadata": {
      "needs_background": "light"
     },
     "output_type": "display_data"
    },
    {
     "data": {
      "image/png": "[encoded data removed]",
      "text/plain": [
       "<Figure size 432x288 with 1 Axes>"
      ]
     },
     "metadata": {
      "needs_background": "light"
     },
     "output_type": "display_data"
    },
    {
     "data": {
      "image/png": "[encoded data removed]",
      "text/plain": [
       "<Figure size 432x288 with 1 Axes>"
      ]
     },
     "metadata": {
      "needs_background": "light"
     },
     "output_type": "display_data"
    },
    {
     "data": {
      "image/png": "[encoded data removed]",
      "text/plain": [
       "<Figure size 432x288 with 1 Axes>"
      ]
     },
     "metadata": {
      "needs_background": "light"
     },
     "output_type": "display_data"
    },
    {
     "data": {
      "image/png": "[encoded data removed]",
      "text/plain": [
       "<Figure size 432x288 with 1 Axes>"
      ]
     },
     "metadata": {
      "needs_background": "light"
     },
     "output_type": "display_data"
    },
    {
     "data": {
      "image/png": "[encoded data removed]",
      "text/plain": [
       "<Figure size 432x288 with 1 Axes>"
      ]
     },
     "metadata": {
      "needs_background": "light"
     },
     "output_type": "display_data"
    },
    {
     "data": {
      "image/png": "[encoded data removed]",
      "text/plain": [
       "<Figure size 432x288 with 1 Axes>"
      ]
     },
     "metadata": {
      "needs_background": "light"
     },
     "output_type": "display_data"
    },
    {
     "data": {
      "image/png": "[encoded data removed]",
      "text/plain": [
       "<Figure size 432x288 with 1 Axes>"
      ]
     },
     "metadata": {
      "needs_background": "light"
     },
     "output_type": "display_data"
    },
    {
     "data": {
      "image/png": "[encoded data removed]",
      "text/plain": [
       "<Figure size 432x288 with 1 Axes>"
      ]
     },
     "metadata": {
      "needs_background": "light"
     },
     "output_type": "display_data"
    },
    {
     "data": {
      "image/png": "[encoded data removed]",
      "text/plain": [
       "<Figure size 432x288 with 1 Axes>"
      ]
     },
     "metadata": {
      "needs_background": "light"
     },
     "output_type": "display_data"
    },
    {
     "data": {
      "image/png": "[encoded data removed]",
      "text/plain": [
       "<Figure size 432x288 with 1 Axes>"
      ]
     },
     "metadata": {
      "needs_background": "light"
     },
     "output_type": "display_data"
    },
    {
     "data": {
      "image/png": "[encoded data removed]",
      "text/plain": [
       "<Figure size 432x288 with 1 Axes>"
      ]
     },
     "metadata": {
      "needs_background": "light"
     },
     "output_type": "display_data"
    }
   ],
   "source": [
    "#visualisation of distribution of numeric variables\n",
    "i =0\n",
    "for col in numeric_columns:\n",
    "    i = i+1\n",
    "    plt.boxplot(wine[col])\n",
    "    plt.title(col)\n",
    "    plt.show()"
   ]
  },
  {
   "cell_type": "code",
   "execution_count": 9,
   "id": "de5027fd",
   "metadata": {},
   "outputs": [
    {
     "data": {
      "text/plain": [
       "Class                           1.000000\n",
       "Flavanoids                      0.847498\n",
       "OD280/OD315 of diluted wines    0.788230\n",
       "Total phenols                   0.719163\n",
       "Proline                         0.633717\n",
       "Hue                             0.617369\n",
       "Alcalinity of ash               0.517859\n",
       "Proanthocyanins                 0.499130\n",
       "Nonflavanoid phenols            0.489109\n",
       "Malic acid                      0.437776\n",
       "Alcohol                         0.328222\n",
       "Color intensity                 0.265668\n",
       "Magnesium                       0.209179\n",
       "Ash                             0.049643\n",
       "Name: Class, dtype: float64"
      ]
     },
     "execution_count": 9,
     "metadata": {},
     "output_type": "execute_result"
    }
   ],
   "source": [
    "wine.corr().Class.abs().sort_values(ascending=False)"
   ]
  },
  {
   "cell_type": "code",
   "execution_count": 10,
   "id": "c789d55a",
   "metadata": {},
   "outputs": [],
   "source": [
    "#70-30 train test split\n",
    "x = wine.drop('Class', axis=1)\n",
    "y = wine['Class']\n",
    "x_train, x_test, y_train, y_test = train_test_split(x,y,test_size=0.3)"
   ]
  },
  {
   "cell_type": "code",
   "execution_count": 11,
   "id": "1eceec6f",
   "metadata": {},
   "outputs": [],
   "source": [
    "#scaling x and y\n",
    "sc_x = StandardScaler()\n",
    "x_trainscaled=sc_x.fit_transform(x_train)\n",
    "x_testscaled=sc_x.transform(x_test)"
   ]
  },
  {
   "cell_type": "code",
   "execution_count": 19,
   "id": "5c7d44ad",
   "metadata": {},
   "outputs": [
    {
     "name": "stdout",
     "output_type": "stream",
     "text": [
      "MLP model score\n",
      "0.9814814814814815\n"
     ]
    }
   ],
   "source": [
    "# MLP classifier with 3 layers of 13 neurons and max 500 iterations\n",
    "clf = MLPClassifier(hidden_layer_sizes=(13,13,13),activation=\"relu\",max_iter=500).fit(x_trainscaled, y_train)\n",
    "y_pred=clf.predict(x_testscaled)\n",
    "print(\"MLP model score\")\n",
    "print(clf.score(x_testscaled, y_test))"
   ]
  },
  {
   "cell_type": "code",
   "execution_count": 13,
   "id": "161ab23a",
   "metadata": {},
   "outputs": [
    {
     "data": {
      "text/plain": [
       "[Text(0.5, 1.0, 'Confusion Matrix')]"
      ]
     },
     "execution_count": 13,
     "metadata": {},
     "output_type": "execute_result"
    },
    {
     "data": {
      "image/png": "[encoded data removed]",
      "text/plain": [
       "<Figure size 432x288 with 2 Axes>"
      ]
     },
     "metadata": {
      "needs_background": "light"
     },
     "output_type": "display_data"
    }
   ],
   "source": [
    "#confusion matrix\n",
    "cm = confusion_matrix(y_test, y_pred)\n",
    "sns.heatmap(cm, annot=True, xticklabels=[\"Actual 1\", \"Actual 2\", \"Actual 3\"], yticklabels=[\"Predicted 1\", \"Predicted 2\", \"Predicted 3\"]).set(title='Confusion Matrix')"
   ]
  },
  {
   "cell_type": "code",
   "execution_count": 14,
   "id": "1e147e53",
   "metadata": {},
   "outputs": [
    {
     "name": "stdout",
     "output_type": "stream",
     "text": [
      "Accuracy =  0.9722222222222222\n",
      "Precision =  0.9473684210526315\n",
      "Recall =  1.0\n",
      "Specificity =  0.9444444444444444\n",
      "F1 Score =  0.972972972972973\n"
     ]
    }
   ],
   "source": [
    "# model scores\n",
    "tn = cm[0,0]\n",
    "fp = cm[0,1]\n",
    "fn = cm[1,0]\n",
    "tp = cm[1,1]\n",
    "\n",
    "acc = (tp+tn)/(tp+tn+fp+fn)\n",
    "tpr = tp/(fn+tp)\n",
    "tnr = tn/(tn+fp)\n",
    "precision = tp/(tp+fp)\n",
    "F1 = 2 * (precision * tpr) / (precision + tpr)\n",
    "\n",
    "print(\"Accuracy = \", acc)\n",
    "print(\"Precision = \", precision)\n",
    "print(\"Recall = \", tpr)\n",
    "print(\"Specificity = \", tnr)\n",
    "print(\"F1 Score = \", F1)"
   ]
  },
  {
   "cell_type": "code",
   "execution_count": 17,
   "id": "339f12c7",
   "metadata": {},
   "outputs": [
    {
     "name": "stdout",
     "output_type": "stream",
     "text": [
      "Weights =  [array([[ 7.92316596e-02, -4.12573427e-01,  1.95410790e-01,\n",
      "        -1.33625732e-01, -1.16610675e-01,  3.52350361e-01,\n",
      "         7.65691352e-02, -3.48580030e-01, -4.02942143e-01,\n",
      "         1.11956164e-01, -6.00147049e-01,  4.45040242e-02,\n",
      "         3.75419747e-01],\n",
      "       [ 1.37381140e-01, -2.49583612e-01, -4.37424834e-01,\n",
      "         1.25420656e-02,  2.32466416e-01,  1.05971980e-01,\n",
      "        -2.66112625e-02, -3.45522256e-01, -4.21269055e-01,\n",
      "        -2.17631193e-01, -1.83174208e-01,  3.05001420e-01,\n",
      "         2.22634770e-01],\n",
      "       [-7.66781020e-03,  4.63278881e-02,  5.32346823e-01,\n",
      "         1.02848184e-01, -2.44250831e-01, -2.58728087e-01,\n",
      "         6.30376045e-02, -3.07057859e-01, -3.89393783e-01,\n",
      "         2.43973948e-01, -4.82792816e-01,  3.10784105e-01,\n",
      "         1.36079410e-01],\n",
      "       [-2.12137276e-01,  5.44379965e-01, -2.14604698e-01,\n",
      "         2.63736833e-01, -5.49866658e-01, -5.17028183e-01,\n",
      "         2.40322178e-01, -4.34074964e-01, -3.52988557e-01,\n",
      "         3.87273889e-01,  2.94200081e-01,  3.59909229e-01,\n",
      "        -5.16705179e-01],\n",
      "       [-5.03033760e-01, -5.80012966e-01, -3.77221258e-01,\n",
      "        -6.97961060e-02, -2.73078270e-01,  4.94845646e-01,\n",
      "        -1.06432699e-02,  4.66693865e-01, -2.63262292e-01,\n",
      "         5.38439796e-01, -3.68085665e-01,  2.58376856e-01,\n",
      "        -1.23998653e-01],\n",
      "       [ 5.35494667e-02,  4.11431224e-02,  2.27811263e-01,\n",
      "         3.06777683e-01, -3.29887325e-01, -9.75869019e-02,\n",
      "        -2.22694234e-01, -2.28147121e-01,  7.85208320e-02,\n",
      "         3.56921777e-01, -1.46071840e-02, -5.93844318e-01,\n",
      "         1.94677050e-01],\n",
      "       [-1.02073730e-01,  4.10408753e-01,  2.93518948e-01,\n",
      "         1.25533729e-01,  4.68315188e-01,  5.42237485e-01,\n",
      "         1.47098020e-01,  3.81706613e-01, -2.50862257e-01,\n",
      "        -5.45242748e-01, -2.79806442e-01, -3.16064356e-01,\n",
      "         4.06624426e-01],\n",
      "       [ 7.57550972e-02,  2.05354457e-01, -2.71944840e-01,\n",
      "        -5.95141455e-01, -6.73002310e-03,  1.98714862e-01,\n",
      "         2.67411659e-01, -4.33181357e-01,  4.87665841e-01,\n",
      "        -7.27374560e-02, -1.44052834e-01,  2.53844663e-01,\n",
      "        -3.92604658e-01],\n",
      "       [-4.93991975e-01, -1.49156221e-01, -1.36558776e-01,\n",
      "         5.31932823e-01, -1.21452532e-02, -5.20639433e-01,\n",
      "        -3.32168580e-01,  5.31671504e-01, -1.14538910e-01,\n",
      "         3.14850735e-01,  4.96210555e-01,  1.47451775e-01,\n",
      "        -8.22538103e-02],\n",
      "       [-1.71810523e-01, -1.08671867e-01, -4.08017922e-02,\n",
      "        -1.86258285e-01,  1.85031651e-01,  1.90946286e-01,\n",
      "        -2.08787439e-01,  4.34940149e-01,  8.06867238e-02,\n",
      "        -3.57833785e-01, -9.60458102e-02,  6.80333579e-01,\n",
      "        -2.59500605e-01],\n",
      "       [ 2.44703458e-01, -2.13089332e-01,  5.71755683e-01,\n",
      "         3.03833682e-01,  1.76394825e-01, -1.67043787e-01,\n",
      "        -6.98211551e-01,  2.53893715e-01, -5.50127154e-03,\n",
      "        -1.43550649e-01,  5.84917782e-01, -6.07542797e-01,\n",
      "         3.22643770e-01],\n",
      "       [-3.68209484e-01,  2.21157320e-01,  5.79696842e-02,\n",
      "         2.59012662e-01,  2.48624363e-01,  3.68305672e-01,\n",
      "        -5.36730146e-01,  4.71307540e-01, -1.68808042e-01,\n",
      "         3.49291492e-01,  1.41405872e-02, -3.13370254e-01,\n",
      "         5.14099407e-01],\n",
      "       [-3.54980631e-02, -5.31717898e-01,  1.09006884e-01,\n",
      "         3.40310286e-01,  6.03810124e-01, -1.17785324e-01,\n",
      "         5.63163401e-02,  2.85863707e-01, -1.17427395e-01,\n",
      "        -9.99242789e-05, -2.55058702e-01,  2.42058212e-01,\n",
      "         7.71702698e-02]]), array([[-1.11951973e-01, -2.83358466e-01,  3.60468408e-01,\n",
      "         2.06454698e-01,  2.22550508e-01, -1.06343758e-01,\n",
      "        -6.92737348e-02,  1.41236151e-01, -1.11352475e-01,\n",
      "         4.70688967e-01, -2.14583443e-01, -2.47082029e-01,\n",
      "         4.61639060e-01],\n",
      "       [ 3.84038257e-03, -2.61516360e-01,  1.70820756e-01,\n",
      "         1.05880325e-01,  1.33461818e-01,  5.76347006e-01,\n",
      "         2.16416813e-02, -1.72310803e-02,  5.42571225e-01,\n",
      "         1.61245692e-01, -2.33464201e-01,  1.69823300e-01,\n",
      "        -1.07127087e-01],\n",
      "       [-1.29269288e-02, -2.55073937e-01,  3.03481412e-01,\n",
      "        -2.14693601e-01,  9.09550470e-02,  4.14432671e-01,\n",
      "        -6.79646041e-02,  1.90459628e-02,  3.34645267e-01,\n",
      "        -2.77304640e-01,  3.29893008e-01, -2.68522649e-01,\n",
      "         1.51857815e-01],\n",
      "       [-4.07527777e-01, -1.34137384e-02,  4.66074423e-01,\n",
      "         5.29015240e-01, -1.03527585e-01,  3.95226532e-01,\n",
      "        -1.06943152e-02, -2.58666179e-01, -2.39408749e-01,\n",
      "        -4.91891386e-02,  4.45413983e-01,  1.45635267e-01,\n",
      "         3.18002581e-01],\n",
      "       [ 2.40645480e-01, -1.39343304e-01, -2.02212067e-01,\n",
      "        -1.52842619e-01, -1.13748305e-01, -5.84408171e-02,\n",
      "         4.49952871e-01,  3.73807332e-01,  3.23338872e-01,\n",
      "        -3.54600687e-01,  6.13943444e-01,  1.45020728e-01,\n",
      "        -2.97469757e-01],\n",
      "       [-7.15308161e-02, -1.15053606e-01,  2.23703798e-01,\n",
      "        -8.59256713e-02, -4.21607865e-04, -1.21923746e-01,\n",
      "         4.86666311e-01,  1.36464620e-01,  2.05107365e-01,\n",
      "        -6.21732459e-02,  5.68309965e-01,  8.08109095e-02,\n",
      "        -1.52448644e-01],\n",
      "       [-2.95900362e-01, -3.37349431e-01, -2.58013105e-01,\n",
      "         1.84907054e-02,  5.42391134e-03, -2.84263912e-01,\n",
      "         1.66409525e-01, -4.10847468e-02, -5.97448479e-02,\n",
      "         7.12873278e-02, -4.20809848e-01,  3.65755080e-01,\n",
      "         4.47764749e-01],\n",
      "       [-2.67222760e-01,  2.29085508e-01,  3.97795272e-01,\n",
      "         5.44913728e-01, -9.68985163e-02,  4.04554913e-01,\n",
      "        -2.03862214e-02, -4.20856596e-01, -1.55447054e-02,\n",
      "         7.21404192e-02,  2.65014438e-01, -2.40710959e-01,\n",
      "        -2.19773912e-02],\n",
      "       [-2.14161526e-01,  1.63526073e-01,  4.25314471e-01,\n",
      "         1.73988506e-01, -4.07947067e-02,  1.39294515e-01,\n",
      "         1.67488370e-01,  5.33409221e-01,  1.52081894e-01,\n",
      "         2.87196579e-01, -1.76902716e-01,  3.74971636e-01,\n",
      "        -4.56391002e-02],\n",
      "       [-2.50103326e-02, -4.15452215e-01,  2.36336870e-01,\n",
      "         4.84192771e-01,  3.05859497e-01, -2.17226979e-01,\n",
      "        -3.90595234e-02, -3.50430182e-01, -2.83244467e-01,\n",
      "        -2.08448229e-01, -4.93640203e-01,  2.71186149e-01,\n",
      "        -1.49165560e-01],\n",
      "       [ 1.27768797e-03, -2.27485271e-01, -2.52078373e-01,\n",
      "         6.31751930e-02,  6.79066431e-01,  1.19936843e-01,\n",
      "         3.34786829e-01,  6.37583370e-02,  3.46935449e-01,\n",
      "         3.62667201e-01, -6.11748775e-01,  6.23032591e-01,\n",
      "        -3.95005027e-01],\n",
      "       [-2.46631382e-02, -4.95927273e-01,  2.98342569e-01,\n",
      "         2.90535201e-01, -1.35249846e-01, -2.03507272e-01,\n",
      "        -3.46658448e-01, -3.25705666e-02, -1.83792158e-01,\n",
      "        -3.27009111e-01, -3.21813612e-01,  7.51002224e-02,\n",
      "         6.51413646e-01],\n",
      "       [ 6.27102486e-02, -2.49606271e-01,  4.48254950e-01,\n",
      "         1.56280862e-01, -4.59056707e-02,  1.78476595e-02,\n",
      "         2.33872084e-01, -9.67112743e-03, -1.46639278e-01,\n",
      "         8.61468739e-02,  3.12720189e-01, -2.41413573e-02,\n",
      "        -4.74966213e-01]]), array([[-6.77283356e-02,  2.22109162e-01, -4.59779933e-01,\n",
      "        -3.39573569e-01, -3.87450979e-01,  2.43347336e-01,\n",
      "         5.12680913e-02, -3.76756537e-01,  1.19810275e-03,\n",
      "         2.52758225e-01, -4.79664870e-02,  3.73759661e-01,\n",
      "         4.28646013e-01],\n",
      "       [-3.62578653e-02,  2.10937098e-01, -9.05546137e-02,\n",
      "        -3.37740302e-01,  1.62816783e-01,  1.80085242e-01,\n",
      "         4.96516243e-01, -3.66623623e-01, -2.82729862e-01,\n",
      "         1.67864599e-01,  3.32647102e-01, -2.28785773e-01,\n",
      "         1.23474006e-01],\n",
      "       [-1.89258181e-01, -8.48049418e-03, -2.78412299e-01,\n",
      "        -5.02023692e-01,  4.65116538e-02,  5.46904946e-01,\n",
      "         3.94433045e-01,  7.52056045e-02,  1.74022510e-01,\n",
      "         2.41342130e-01, -2.55176268e-01,  1.64305036e-01,\n",
      "         3.66999897e-02],\n",
      "       [-1.14512982e-01,  4.49405892e-02, -3.67798072e-01,\n",
      "         5.67924546e-02,  3.40400204e-01,  4.95508558e-01,\n",
      "        -8.76303657e-02,  3.39149215e-01,  2.52237164e-01,\n",
      "         3.15875072e-01,  5.39669043e-01,  8.17294142e-02,\n",
      "         7.78009578e-03],\n",
      "       [-9.71183710e-02, -3.95896911e-01, -3.76389864e-02,\n",
      "        -2.81218544e-01, -4.54872079e-01, -7.15843726e-01,\n",
      "        -6.41560761e-01,  4.93001382e-01,  4.55915945e-01,\n",
      "        -3.41380115e-01,  7.23026818e-02,  2.65457778e-01,\n",
      "        -6.24993657e-01],\n",
      "       [-9.73326506e-02, -6.16551421e-02,  2.18650893e-01,\n",
      "         4.00626165e-01, -5.64562679e-01,  1.26459035e-01,\n",
      "         2.59422491e-01,  5.71353088e-01,  4.98466552e-01,\n",
      "        -1.46755257e-01,  3.56746860e-01, -7.17765591e-03,\n",
      "        -2.39609862e-01],\n",
      "       [-1.33445089e-01, -2.02141958e-01, -2.36301877e-01,\n",
      "         3.89239677e-01, -5.29473469e-01, -2.59369937e-02,\n",
      "         4.10310683e-01,  6.28796278e-01,  2.29202220e-01,\n",
      "         2.45153715e-01,  1.14092203e-02, -1.16892036e-01,\n",
      "        -4.36479179e-01],\n",
      "       [-1.23631116e-01, -1.20221170e-01,  3.88295590e-01,\n",
      "        -1.74938776e-01,  3.36052869e-01,  1.14510182e-01,\n",
      "         2.37687963e-01,  2.07836881e-01,  1.47762770e-01,\n",
      "        -9.91634306e-02, -2.86509653e-02,  7.34073613e-02,\n",
      "         7.33669976e-02],\n",
      "       [-8.16023342e-02, -1.38612080e-01, -3.48155020e-02,\n",
      "         3.04730527e-01,  3.16238666e-01,  4.55788841e-02,\n",
      "         5.41155665e-01,  3.04098630e-01,  2.40492894e-01,\n",
      "        -4.50421377e-01,  4.08033025e-01,  3.30772822e-01,\n",
      "         2.73506666e-01],\n",
      "       [ 1.58672719e-01,  3.96344306e-01, -3.14452460e-01,\n",
      "        -4.53744149e-01, -3.91026351e-01, -4.81246704e-01,\n",
      "        -4.49491627e-01, -6.52850987e-03,  3.86144083e-01,\n",
      "        -2.02119349e-01, -2.06024270e-01,  1.43397425e-01,\n",
      "        -7.31868533e-02],\n",
      "       [ 8.31520171e-05, -3.62403107e-01, -3.54162559e-02,\n",
      "        -4.13094561e-02, -6.07463018e-02,  3.91551128e-01,\n",
      "         5.29649342e-01,  5.58807302e-01, -4.51228221e-01,\n",
      "         6.10562504e-01, -3.72857715e-01,  2.52083424e-02,\n",
      "         4.18399117e-02],\n",
      "       [ 1.95203425e-02,  3.73555788e-01, -8.84728905e-02,\n",
      "        -2.07994379e-01,  3.24239878e-01, -6.14950081e-01,\n",
      "        -6.77308264e-01,  1.60365618e-01,  2.45975835e-01,\n",
      "         2.33226810e-01,  7.51825654e-01,  5.29598841e-01,\n",
      "         2.75202381e-01],\n",
      "       [ 1.03121771e-03,  5.40734080e-01, -3.17007899e-01,\n",
      "        -4.11966465e-01,  2.09896900e-01, -3.74730058e-02,\n",
      "        -1.07529530e-01, -2.88990703e-01, -4.37928291e-01,\n",
      "         4.76516382e-01,  3.77638409e-01, -2.21342351e-01,\n",
      "         6.18403939e-01]]), array([[-0.31531143,  0.00677011,  0.14567617],\n",
      "       [ 0.10501931, -0.04668378,  0.65507878],\n",
      "       [-0.10526977, -0.16670468,  0.34669651],\n",
      "       [ 0.10227978, -0.18849613,  0.2696417 ],\n",
      "       [-0.04783357, -0.43196416,  0.59860598],\n",
      "       [ 0.16311638, -0.53956587, -0.16020218],\n",
      "       [ 0.74992999, -0.14712981,  0.22438685],\n",
      "       [ 0.44613096,  0.40071113, -0.36648843],\n",
      "       [-0.09984509,  0.56293194, -0.61498096],\n",
      "       [-0.16006739, -0.66536243, -0.26977379],\n",
      "       [-0.73730469,  0.27830455, -0.14287515],\n",
      "       [-0.43103399,  0.66427419, -0.54381132],\n",
      "       [-0.20227755, -0.23864136,  0.29319816]])]\n"
     ]
    }
   ],
   "source": [
    "# MLP weights\n",
    "weights, bias = clf.coefs_, clf.intercepts_\n",
    "print(\"Weights = \", weights)"
   ]
  },
  {
   "cell_type": "code",
   "execution_count": 18,
   "id": "599a9363",
   "metadata": {},
   "outputs": [
    {
     "name": "stdout",
     "output_type": "stream",
     "text": [
      "Bias =  [array([ 0.11720017, -0.22962424, -0.34105434,  0.39482454,  0.36176301,\n",
      "       -0.03832223,  0.18967926,  0.43291134,  0.49982633, -0.30587584,\n",
      "        0.57770328,  0.0617803 , -0.2080971 ]), array([-0.00130416,  0.12490562,  0.07994085,  0.05843161,  0.0672589 ,\n",
      "       -0.26520789,  0.1179333 ,  0.18930199,  0.29862761,  0.28487464,\n",
      "        0.60139168, -0.20186661, -0.226751  ]), array([-0.31979883, -0.07495054,  0.1461351 ,  0.37837289,  0.44650993,\n",
      "        0.14565341, -0.30662366, -0.03787767,  0.05997874,  0.0553287 ,\n",
      "        0.01157779,  0.02076095,  0.29284444]), array([-0.34492374,  0.32607116,  0.55666217])]\n"
     ]
    }
   ],
   "source": [
    "#MLP biases\n",
    "print(\"Bias = \", bias)"
   ]
  }
 ],
 "metadata": {
  "kernelspec": {
   "display_name": "Python 3",
   "language": "python",
   "name": "python3"
  },
  "language_info": {
   "codemirror_mode": {
    "name": "ipython",
    "version": 3
   },
   "file_extension": ".py",
   "mimetype": "text/x-python",
   "name": "python",
   "nbconvert_exporter": "python",
   "pygments_lexer": "ipython3",
   "version": "3.8.8"
  }
 },
 "nbformat": 4,
 "nbformat_minor": 5
}
