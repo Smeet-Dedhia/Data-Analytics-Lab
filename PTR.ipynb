{
 "cells": [
  {
   "cell_type": "markdown",
   "id": "1fc99b3a",
   "metadata": {},
   "source": [
    "https://github.com/campusx-official/100-days-of-machine-learning <br>\n",
    "https://github.com/campusx-official/100-days-of-machine-learning/blob/main/day28-column-transformer/day28.ipynb<br>\n",
    "https://github.com/krishnaik06/Pipelines-Using-Sklearn/blob/master/SklearnPipeline.ipynb"
   ]
  },
  {
   "cell_type": "markdown",
   "id": "1f76931e",
   "metadata": {},
   "source": [
    "## Preprocessing"
   ]
  },
  {
   "cell_type": "code",
   "execution_count": 1,
   "id": "a83ffa7e",
   "metadata": {},
   "outputs": [],
   "source": [
    "import pandas as pd\n",
    "import numpy as np\n",
    "import matplotlib.pyplot as plt\n",
    "import seaborn as sns\n",
    "from sklearn.model_selection import train_test_split"
   ]
  },
  {
   "cell_type": "code",
   "execution_count": null,
   "id": "981916d3",
   "metadata": {},
   "outputs": [],
   "source": [
    "numeric = [cname for cname in x.columns if x[cname].dtype in ['int64', 'float64']]\n",
    "categoric = [cname for cname in x.columns if x[cname].dtype == 'object']\n",
    "\n",
    "# scaling numericals\n",
    "numerical_transformer = Pipeline(steps = [\n",
    "    ('scaler', RobustScaler())\n",
    "])\n",
    "\n",
    "# one-hot encoding categorical\n",
    "categorical_transformer = Pipeline(steps=[\n",
    "    ('onehot', OneHotEncoder(handle_unknown='ignore'))\n",
    "])\n",
    "\n",
    "# bundle preprocessing\n",
    "preprocessor = ColumnTransformer(\n",
    "    transformers=[\n",
    "        ('numerical', numerical_transformer, numeric),\n",
    "        ('categorical', categorical_transformer, categoric),\n",
    "      ])"
   ]
  },
  {
   "cell_type": "code",
   "execution_count": null,
   "id": "b8f1923e",
   "metadata": {},
   "outputs": [],
   "source": [
    "from sklearn.model_selection import cross_val_predict\n",
    "y_pred = cross_val_predict(pipe, x, y, cv=10)"
   ]
  },
  {
   "cell_type": "code",
   "execution_count": null,
   "id": "81911dc7",
   "metadata": {},
   "outputs": [],
   "source": [
    "df= pd.get_dummies(df, columns=[])"
   ]
  },
  {
   "cell_type": "code",
   "execution_count": null,
   "id": "52a938ca",
   "metadata": {},
   "outputs": [],
   "source": [
    "weather['RainToday'] = weather['RainToday'].map({'No':0, 'Yes':1})"
   ]
  },
  {
   "cell_type": "code",
   "execution_count": null,
   "id": "1d7cc77a",
   "metadata": {},
   "outputs": [],
   "source": [
    "from statsmodels.stats.outliers_influence import variance_inflation_factor\n",
    "\n",
    "vif = pd.DataFrame()\n",
    "vif[\"Variable\"] = x.columns\n",
    "vif[\"VIF\"] = [variance_inflation_factor(x.values, i) for i in range(x.shape[1])]\n",
    "vif = vif[vif['Variable']!='intercept']\n",
    "vif"
   ]
  },
  {
   "cell_type": "markdown",
   "id": "192f6bef",
   "metadata": {},
   "source": [
    "## Scaling"
   ]
  },
  {
   "cell_type": "code",
   "execution_count": null,
   "id": "02777592",
   "metadata": {},
   "outputs": [],
   "source": [
    "from sklearn.preprocessing import StandardScaler, MinMaxScaler"
   ]
  },
  {
   "cell_type": "code",
   "execution_count": null,
   "id": "d6b8509c",
   "metadata": {},
   "outputs": [],
   "source": [
    "iris_scaled = pd.DataFrame(iris)\n",
    "mscaler = MinMaxScaler()\n",
    "for col in ['SepalLengthCm', 'SepalWidthCm', 'PetalLengthCm', 'PetalWidthCm']:\n",
    "    iris_scaled[col]=mscaler.fit_transform(iris_scaled[col].values.reshape(-1,1))\n",
    "iris_scaled"
   ]
  },
  {
   "cell_type": "code",
   "execution_count": null,
   "id": "d1d21c46",
   "metadata": {},
   "outputs": [],
   "source": [
    "sc_x = StandardScaler()\n",
    "x_trainscaled=sc_x.fit_transform(x_train)\n",
    "x_testscaled=sc_x.transform(x_test)"
   ]
  },
  {
   "cell_type": "markdown",
   "id": "24295bd7",
   "metadata": {},
   "source": [
    "## Regression:"
   ]
  },
  {
   "cell_type": "code",
   "execution_count": 2,
   "id": "208102f8",
   "metadata": {},
   "outputs": [],
   "source": [
    "from sklearn.linear_model import LinearRegression"
   ]
  },
  {
   "cell_type": "code",
   "execution_count": null,
   "id": "f59aed54",
   "metadata": {},
   "outputs": [],
   "source": [
    "reg = LinearRegression()\n",
    "reg.fit(x_train, y_train)\n",
    "reg.coef_\n",
    "y_pred = reg.predict(x_test)"
   ]
  },
  {
   "cell_type": "code",
   "execution_count": null,
   "id": "3b625ad4",
   "metadata": {},
   "outputs": [],
   "source": [
    "logreg = LogisticRegression()\n",
    "logreg.fit(x_train, y_train)\n",
    "logreg.coef_\n",
    "logreg.score(x_test, y_test)"
   ]
  },
  {
   "cell_type": "code",
   "execution_count": null,
   "id": "d6a22326",
   "metadata": {},
   "outputs": [],
   "source": [
    "from sklearn.preprocessing import PolynomialFeatures\n",
    "from sklearn.linear_model import LinearRegression\n",
    "\n",
    "poly = PolynomialFeatures(degree=6, include_bias=False)\n",
    "poly_features = poly.fit_transform(x)\n",
    "x_train, x_test, y_train, y_test = train_test_split(poly_features, y, test_size=0.3, random_state=42)\n",
    "\n",
    "poly_reg_model = LinearRegression()\n",
    "poly_reg_model.fit(x_train, y_train)\n",
    "poly_reg_y_predicted = poly_reg_model.predict(x_test)"
   ]
  },
  {
   "cell_type": "code",
   "execution_count": null,
   "id": "69b51b34",
   "metadata": {},
   "outputs": [],
   "source": [
    "from sklearn.linear_model import Ridge\n",
    "from sklearn.linear_model import Lasso\n",
    "\n",
    "rigmodel = Ridge(alpha = 0.1, normalize = False)\n",
    "rigmodel.fit(x_train, y_train)\n",
    "  \n",
    "y_pred1 = rigmodel.predict(x_test)\n",
    "  \n",
    "score1 = rigmodel.score(x_test, y_test)\n",
    "\n",
    "\n",
    "lasmodel = Lasso(alpha = 0.1, normalize=False)\n",
    "lasmodel.fit(x_train, y_train)\n",
    "\n",
    "y_pred = lasmodel.predict(x_test)\n",
    "  \n",
    "score2 = lasmodel.score(x_test, y_test)"
   ]
  },
  {
   "cell_type": "markdown",
   "id": "d4af0c74",
   "metadata": {},
   "source": [
    "## Classification"
   ]
  },
  {
   "cell_type": "code",
   "execution_count": null,
   "id": "9b0e6039",
   "metadata": {},
   "outputs": [],
   "source": [
    "from sklearn.neighbors import KNeighborsClassifier"
   ]
  },
  {
   "cell_type": "code",
   "execution_count": null,
   "id": "40f014a2",
   "metadata": {},
   "outputs": [],
   "source": [
    "neigh = KNeighborsClassifier(n_neighbors=10)\n",
    "neigh.fit(x2_train, y2_train)\n",
    "y2_pred2 = neigh.predict(x_test)\n",
    "neigh.score(x2_test, y2_test)"
   ]
  },
  {
   "cell_type": "code",
   "execution_count": null,
   "id": "841cd80e",
   "metadata": {},
   "outputs": [],
   "source": [
    "from sklearn.naive_bayes import GaussianNB\n",
    "model = GaussianNB()"
   ]
  },
  {
   "cell_type": "code",
   "execution_count": null,
   "id": "8f433154",
   "metadata": {},
   "outputs": [],
   "source": [
    "from sklearn.model_selection import GridSearchCV\n",
    "from sklearn import tree\n",
    "from sklearn.tree import DecisionTreeClassifier\n",
    "from sklearn.tree import export_graphviz  \n",
    "from IPython.display import Image  \n",
    "import pydotplus\n",
    "import six\n",
    "import sys\n",
    "sys.modules['sklearn.externals.six'] = six\n",
    "from six import StringIO\n",
    "\n",
    "clf = DecisionTreeClassifier()\n",
    "params = [{'criterion': [\"gini\", \"entropy\"],\n",
    "         'max_depth': [2,3,4,5,6,7,8,9,10]}]\n",
    "gs_tree = GridSearchCV(clf,param_grid=params,scoring='roc_auc',cv=10)\n",
    "gs_tree.fit(x, y)\n",
    "gs_tree.best_params_"
   ]
  },
  {
   "cell_type": "code",
   "execution_count": null,
   "id": "b7dc57ed",
   "metadata": {},
   "outputs": [],
   "source": [
    "dot_data = StringIO()\n",
    "export_graphviz(clf1, out_file=dot_data,  \n",
    "                filled=True, rounded=True,\n",
    "                special_characters=True,feature_names = x.columns,class_names=['0','1'])\n",
    "graph = pydotplus.graph_from_dot_data(dot_data.getvalue())  \n",
    "graph.write_png('credit.png')\n",
    "Image(graph.create_png())"
   ]
  },
  {
   "cell_type": "code",
   "execution_count": null,
   "id": "dc9c1f4b",
   "metadata": {},
   "outputs": [],
   "source": [
    "print(tree.export_text(clf1,feature_names = list(x.columns)))"
   ]
  },
  {
   "cell_type": "code",
   "execution_count": null,
   "id": "ada41ceb",
   "metadata": {},
   "outputs": [],
   "source": [
    "from sklearn.neural_network import MLPClassifier\n",
    "\n",
    "# MLP classifier with 3 layers of 13 neurons and max 500 iterations\n",
    "clf = MLPClassifier(hidden_layer_sizes=(13,13,13),activation=\"relu\",max_iter=500).fit(x_trainscaled, y_train)\n",
    "y_pred=clf.predict(x_testscaled)\n",
    "clf.score(x_testscaled, y_test)\n",
    "\n",
    "weights, bias = clf.coefs_, clf.intercepts_"
   ]
  },
  {
   "cell_type": "code",
   "execution_count": null,
   "id": "cf70caa0",
   "metadata": {},
   "outputs": [],
   "source": [
    "from sklearn.svm import SVC\n",
    "from sklearn.model_selection import GridSearchCV\n",
    "from sklearn.metrics import classification_report\n",
    "\n",
    "#using grid search to tune hyper parameters\n",
    "params = {\n",
    "    'C' : list(range(1,11)),\n",
    "    'kernel' : ['linear', 'poly', 'rbf'],\n",
    "    'gamma' : ['scale', 'auto']\n",
    "}\n",
    "\n",
    "grid_search = GridSearchCV(SVC(random_state=105), params, cv=10)\n",
    "\n",
    "grid_search.fit(x_train, y_train)\n",
    "\n",
    "grid_search.best_params_\n",
    "\n",
    "# Model with best parameters\n",
    "model = grid_search.best_estimator_\n",
    "\n",
    "model.fit(x_train, y_train)\n",
    "\n",
    "# Performance metrics of model\n",
    "print(\"Performance metrics:\")\n",
    "print(classification_report(y_test, model.predict(x_test)))"
   ]
  },
  {
   "cell_type": "markdown",
   "id": "530cf358",
   "metadata": {},
   "source": [
    "## Scores"
   ]
  },
  {
   "cell_type": "code",
   "execution_count": 3,
   "id": "e58a50a1",
   "metadata": {},
   "outputs": [],
   "source": [
    "from sklearn.metrics import mean_squared_error\n",
    "from sklearn.metrics import r2_score"
   ]
  },
  {
   "cell_type": "code",
   "execution_count": null,
   "id": "303ff001",
   "metadata": {},
   "outputs": [],
   "source": [
    "np.sqrt(mean_squared_error(y_pred,y_test)) #RMSE\n",
    "r2_score(y_test,y_pred)"
   ]
  },
  {
   "cell_type": "code",
   "execution_count": null,
   "id": "23817595",
   "metadata": {},
   "outputs": [],
   "source": [
    "cm = pd.DataFrame(metrics.confusion_matrix(y_test, y_pred), index=['True_0', 'True_1'], columns=['Predicted_0','Predicted_1'])"
   ]
  },
  {
   "cell_type": "code",
   "execution_count": null,
   "id": "2d736010",
   "metadata": {},
   "outputs": [],
   "source": [
    "tn = cm[0,0]\n",
    "fp = cm[0,1]\n",
    "fn = cm[1,0]\n",
    "tp = cm[1,1]\n",
    "\n",
    "acc = (tp+tn)/(tp+tn+fp+fn)\n",
    "tpr = tp/(fn+tp)\n",
    "tnr = tn/(tn+fp)\n",
    "\n",
    "print(\"Accuracy = \", acc)\n",
    "print(\"Sensitivity = \", tpr)\n",
    "print(\"Specificity = \", tnr)"
   ]
  },
  {
   "cell_type": "code",
   "execution_count": null,
   "id": "3366c83b",
   "metadata": {},
   "outputs": [],
   "source": [
    "from sklearn.model_selection import KFold\n",
    "from sklearn.model_selection import cross_val_score\n",
    "cv = KFold(n_splits=10, random_state=105, shuffle=True)\n",
    "\n",
    "accuracy = cross_val_score(pipe, x, y, cv=cv, scoring='accuracy')\n",
    "np.mean(accuracy)\n",
    "\n",
    "precision = cross_val_score(pipe, x, y, cv=cv, scoring='precision')\n",
    "np.mean(precision)\n",
    "\n",
    "recall = cross_val_score(pipe, x, y, cv=cv, scoring='recall')\n",
    "np.mean(recall)"
   ]
  },
  {
   "cell_type": "code",
   "execution_count": null,
   "id": "96d1ead1",
   "metadata": {},
   "outputs": [],
   "source": [
    "from sklearn.metrics import plot_roc_curve, roc_auc_score\n",
    "pipe.fit(x, y)\n",
    "plot_roc_curve(pipe, x, y)\n",
    "\n",
    "roc_auc_score(y,y_pred)"
   ]
  },
  {
   "cell_type": "markdown",
   "id": "ca3d3268",
   "metadata": {},
   "source": [
    "## Visualisations"
   ]
  },
  {
   "cell_type": "code",
   "execution_count": null,
   "id": "6dac987b",
   "metadata": {},
   "outputs": [],
   "source": [
    "sns.FacetGrid(iris, hue =\"Species\",height = 6).map(plt.scatter,'SepalWidthCm','PetalWidthCm').add_legend()"
   ]
  },
  {
   "cell_type": "code",
   "execution_count": null,
   "id": "965884eb",
   "metadata": {},
   "outputs": [],
   "source": [
    "sns.pairplot(iris[['SepalLengthCm', 'SepalWidthCm', 'PetalLengthCm', 'PetalWidthCm',\n",
    "       'Species']], hue=\"Species\")"
   ]
  },
  {
   "cell_type": "code",
   "execution_count": null,
   "id": "05f18956",
   "metadata": {},
   "outputs": [],
   "source": [
    "df.boxplot()"
   ]
  },
  {
   "cell_type": "code",
   "execution_count": null,
   "id": "bd98d57c",
   "metadata": {},
   "outputs": [],
   "source": [
    "#Visualising age using histogram\n",
    "plt.title('Distribution of Age')\n",
    "plt.hist(diabetes_age)\n",
    "plt.xlabel('Age')\n",
    "plt.ylabel('Frequency')\n",
    "plt.show()"
   ]
  },
  {
   "cell_type": "code",
   "execution_count": null,
   "id": "ef5206a2",
   "metadata": {},
   "outputs": [],
   "source": [
    "#Tabulation of Class Label\n",
    "diabetes_classLabels = pd.DataFrame(diabetes['class'].value_counts())\n",
    "diabetes_classLabels\n",
    "#Visualisation of Class labels\n",
    "sns.countplot(x='class',data=diabetes).set(title=\"Countplot for Class Label Distribution\")\n",
    "plt.show()"
   ]
  }
 ],
 "metadata": {
  "kernelspec": {
   "display_name": "Python 3",
   "language": "python",
   "name": "python3"
  },
  "language_info": {
   "codemirror_mode": {
    "name": "ipython",
    "version": 3
   },
   "file_extension": ".py",
   "mimetype": "text/x-python",
   "name": "python",
   "nbconvert_exporter": "python",
   "pygments_lexer": "ipython3",
   "version": "3.8.8"
  }
 },
 "nbformat": 4,
 "nbformat_minor": 5
}
